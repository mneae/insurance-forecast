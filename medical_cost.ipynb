{
  "nbformat": 4,
  "nbformat_minor": 0,
  "metadata": {
    "colab": {
      "provenance": [],
      "authorship_tag": "ABX9TyNZZJA+Vuo3f6WrIGUdtsM+",
      "include_colab_link": true
    },
    "kernelspec": {
      "name": "python3",
      "display_name": "Python 3"
    },
    "language_info": {
      "name": "python"
    }
  },
  "cells": [
    {
      "cell_type": "markdown",
      "metadata": {
        "id": "view-in-github",
        "colab_type": "text"
      },
      "source": [
        "<a href=\"https://colab.research.google.com/github/mneae/insurance-forecast/blob/main/medical_cost.ipynb\" target=\"_parent\"><img src=\"https://colab.research.google.com/assets/colab-badge.svg\" alt=\"Open In Colab\"/></a>"
      ]
    },
    {
      "cell_type": "markdown",
      "source": [
        "Link: https://www.kaggle.com/datasets/mirichoi0218/insurance\n",
        "\n",
        "We will build a health insurance cost prediction model based on personal information using this dataset from Kaggle.\n",
        "\n",
        "age: age of primary beneficiary\n",
        "\n",
        "sex: insurance contractor gender, female, male\n",
        "\n",
        "bmi: Body mass index, providing an understanding of body, weights that are relatively high or low relative to height, objective index of body weight (kg / m ^ 2) using the ratio of height to weight, ideally 18.5 to 24.9\n",
        "\n",
        "children: Number of children covered by health insurance / Number of dependents\n",
        "\n",
        "smoker: Smoking\n",
        "\n",
        "region: the beneficiary's residential area in the US, northeast, southeast, southwest, northwest.\n",
        "\n",
        "charges: Individual medical costs billed by health insurance"
      ],
      "metadata": {
        "id": "H8AhoiMU0v0q"
      }
    },
    {
      "cell_type": "markdown",
      "source": [
        "Let's add the libraries for our study and load our data set."
      ],
      "metadata": {
        "id": "CDsOmaLO2JmU"
      }
    },
    {
      "cell_type": "code",
      "execution_count": 1,
      "metadata": {
        "id": "sB9B3oXDt6-v"
      },
      "outputs": [],
      "source": [
        "import pandas as pd\n",
        "import numpy as np\n",
        "import seaborn as sns\n",
        "import matplotlib.pyplot as plt\n",
        "from sklearn.preprocessing import LabelEncoder, OneHotEncoder, StandardScaler\n",
        "from sklearn.compose import ColumnTransformer\n",
        "from sklearn.model_selection import train_test_split, cross_val_score, GridSearchCV\n",
        "from sklearn.linear_model import LinearRegression\n",
        "from sklearn.ensemble import RandomForestRegressor"
      ]
    },
    {
      "cell_type": "code",
      "source": [
        "import warnings\n",
        "warnings.filterwarnings('ignore')\n",
        "#Uyarıların görünmemesi için"
      ],
      "metadata": {
        "id": "nNv1plix9Y6I"
      },
      "execution_count": 2,
      "outputs": []
    },
    {
      "cell_type": "code",
      "source": [
        "insurance = pd.read_csv(\"insurance.csv\")\n",
        "df = insurance.copy()\n",
        "df"
      ],
      "metadata": {
        "id": "CgaiFI6Kwdt-",
        "colab": {
          "base_uri": "https://localhost:8080/",
          "height": 424
        },
        "outputId": "3cf6a3c1-e91b-43aa-d568-c54e3c00159e"
      },
      "execution_count": 3,
      "outputs": [
        {
          "output_type": "execute_result",
          "data": {
            "text/plain": [
              "      age     sex     bmi  children smoker     region      charges\n",
              "0      19  female  27.900         0    yes  southwest  16884.92400\n",
              "1      18    male  33.770         1     no  southeast   1725.55230\n",
              "2      28    male  33.000         3     no  southeast   4449.46200\n",
              "3      33    male  22.705         0     no  northwest  21984.47061\n",
              "4      32    male  28.880         0     no  northwest   3866.85520\n",
              "...   ...     ...     ...       ...    ...        ...          ...\n",
              "1333   50    male  30.970         3     no  northwest  10600.54830\n",
              "1334   18  female  31.920         0     no  northeast   2205.98080\n",
              "1335   18  female  36.850         0     no  southeast   1629.83350\n",
              "1336   21  female  25.800         0     no  southwest   2007.94500\n",
              "1337   61  female  29.070         0    yes  northwest  29141.36030\n",
              "\n",
              "[1338 rows x 7 columns]"
            ],
            "text/html": [
              "\n",
              "  <div id=\"df-5bef875b-1bec-4101-b578-7a4e22afe581\" class=\"colab-df-container\">\n",
              "    <div>\n",
              "<style scoped>\n",
              "    .dataframe tbody tr th:only-of-type {\n",
              "        vertical-align: middle;\n",
              "    }\n",
              "\n",
              "    .dataframe tbody tr th {\n",
              "        vertical-align: top;\n",
              "    }\n",
              "\n",
              "    .dataframe thead th {\n",
              "        text-align: right;\n",
              "    }\n",
              "</style>\n",
              "<table border=\"1\" class=\"dataframe\">\n",
              "  <thead>\n",
              "    <tr style=\"text-align: right;\">\n",
              "      <th></th>\n",
              "      <th>age</th>\n",
              "      <th>sex</th>\n",
              "      <th>bmi</th>\n",
              "      <th>children</th>\n",
              "      <th>smoker</th>\n",
              "      <th>region</th>\n",
              "      <th>charges</th>\n",
              "    </tr>\n",
              "  </thead>\n",
              "  <tbody>\n",
              "    <tr>\n",
              "      <th>0</th>\n",
              "      <td>19</td>\n",
              "      <td>female</td>\n",
              "      <td>27.900</td>\n",
              "      <td>0</td>\n",
              "      <td>yes</td>\n",
              "      <td>southwest</td>\n",
              "      <td>16884.92400</td>\n",
              "    </tr>\n",
              "    <tr>\n",
              "      <th>1</th>\n",
              "      <td>18</td>\n",
              "      <td>male</td>\n",
              "      <td>33.770</td>\n",
              "      <td>1</td>\n",
              "      <td>no</td>\n",
              "      <td>southeast</td>\n",
              "      <td>1725.55230</td>\n",
              "    </tr>\n",
              "    <tr>\n",
              "      <th>2</th>\n",
              "      <td>28</td>\n",
              "      <td>male</td>\n",
              "      <td>33.000</td>\n",
              "      <td>3</td>\n",
              "      <td>no</td>\n",
              "      <td>southeast</td>\n",
              "      <td>4449.46200</td>\n",
              "    </tr>\n",
              "    <tr>\n",
              "      <th>3</th>\n",
              "      <td>33</td>\n",
              "      <td>male</td>\n",
              "      <td>22.705</td>\n",
              "      <td>0</td>\n",
              "      <td>no</td>\n",
              "      <td>northwest</td>\n",
              "      <td>21984.47061</td>\n",
              "    </tr>\n",
              "    <tr>\n",
              "      <th>4</th>\n",
              "      <td>32</td>\n",
              "      <td>male</td>\n",
              "      <td>28.880</td>\n",
              "      <td>0</td>\n",
              "      <td>no</td>\n",
              "      <td>northwest</td>\n",
              "      <td>3866.85520</td>\n",
              "    </tr>\n",
              "    <tr>\n",
              "      <th>...</th>\n",
              "      <td>...</td>\n",
              "      <td>...</td>\n",
              "      <td>...</td>\n",
              "      <td>...</td>\n",
              "      <td>...</td>\n",
              "      <td>...</td>\n",
              "      <td>...</td>\n",
              "    </tr>\n",
              "    <tr>\n",
              "      <th>1333</th>\n",
              "      <td>50</td>\n",
              "      <td>male</td>\n",
              "      <td>30.970</td>\n",
              "      <td>3</td>\n",
              "      <td>no</td>\n",
              "      <td>northwest</td>\n",
              "      <td>10600.54830</td>\n",
              "    </tr>\n",
              "    <tr>\n",
              "      <th>1334</th>\n",
              "      <td>18</td>\n",
              "      <td>female</td>\n",
              "      <td>31.920</td>\n",
              "      <td>0</td>\n",
              "      <td>no</td>\n",
              "      <td>northeast</td>\n",
              "      <td>2205.98080</td>\n",
              "    </tr>\n",
              "    <tr>\n",
              "      <th>1335</th>\n",
              "      <td>18</td>\n",
              "      <td>female</td>\n",
              "      <td>36.850</td>\n",
              "      <td>0</td>\n",
              "      <td>no</td>\n",
              "      <td>southeast</td>\n",
              "      <td>1629.83350</td>\n",
              "    </tr>\n",
              "    <tr>\n",
              "      <th>1336</th>\n",
              "      <td>21</td>\n",
              "      <td>female</td>\n",
              "      <td>25.800</td>\n",
              "      <td>0</td>\n",
              "      <td>no</td>\n",
              "      <td>southwest</td>\n",
              "      <td>2007.94500</td>\n",
              "    </tr>\n",
              "    <tr>\n",
              "      <th>1337</th>\n",
              "      <td>61</td>\n",
              "      <td>female</td>\n",
              "      <td>29.070</td>\n",
              "      <td>0</td>\n",
              "      <td>yes</td>\n",
              "      <td>northwest</td>\n",
              "      <td>29141.36030</td>\n",
              "    </tr>\n",
              "  </tbody>\n",
              "</table>\n",
              "<p>1338 rows × 7 columns</p>\n",
              "</div>\n",
              "    <div class=\"colab-df-buttons\">\n",
              "\n",
              "  <div class=\"colab-df-container\">\n",
              "    <button class=\"colab-df-convert\" onclick=\"convertToInteractive('df-5bef875b-1bec-4101-b578-7a4e22afe581')\"\n",
              "            title=\"Convert this dataframe to an interactive table.\"\n",
              "            style=\"display:none;\">\n",
              "\n",
              "  <svg xmlns=\"http://www.w3.org/2000/svg\" height=\"24px\" viewBox=\"0 -960 960 960\">\n",
              "    <path d=\"M120-120v-720h720v720H120Zm60-500h600v-160H180v160Zm220 220h160v-160H400v160Zm0 220h160v-160H400v160ZM180-400h160v-160H180v160Zm440 0h160v-160H620v160ZM180-180h160v-160H180v160Zm440 0h160v-160H620v160Z\"/>\n",
              "  </svg>\n",
              "    </button>\n",
              "\n",
              "  <style>\n",
              "    .colab-df-container {\n",
              "      display:flex;\n",
              "      gap: 12px;\n",
              "    }\n",
              "\n",
              "    .colab-df-convert {\n",
              "      background-color: #E8F0FE;\n",
              "      border: none;\n",
              "      border-radius: 50%;\n",
              "      cursor: pointer;\n",
              "      display: none;\n",
              "      fill: #1967D2;\n",
              "      height: 32px;\n",
              "      padding: 0 0 0 0;\n",
              "      width: 32px;\n",
              "    }\n",
              "\n",
              "    .colab-df-convert:hover {\n",
              "      background-color: #E2EBFA;\n",
              "      box-shadow: 0px 1px 2px rgba(60, 64, 67, 0.3), 0px 1px 3px 1px rgba(60, 64, 67, 0.15);\n",
              "      fill: #174EA6;\n",
              "    }\n",
              "\n",
              "    .colab-df-buttons div {\n",
              "      margin-bottom: 4px;\n",
              "    }\n",
              "\n",
              "    [theme=dark] .colab-df-convert {\n",
              "      background-color: #3B4455;\n",
              "      fill: #D2E3FC;\n",
              "    }\n",
              "\n",
              "    [theme=dark] .colab-df-convert:hover {\n",
              "      background-color: #434B5C;\n",
              "      box-shadow: 0px 1px 3px 1px rgba(0, 0, 0, 0.15);\n",
              "      filter: drop-shadow(0px 1px 2px rgba(0, 0, 0, 0.3));\n",
              "      fill: #FFFFFF;\n",
              "    }\n",
              "  </style>\n",
              "\n",
              "    <script>\n",
              "      const buttonEl =\n",
              "        document.querySelector('#df-5bef875b-1bec-4101-b578-7a4e22afe581 button.colab-df-convert');\n",
              "      buttonEl.style.display =\n",
              "        google.colab.kernel.accessAllowed ? 'block' : 'none';\n",
              "\n",
              "      async function convertToInteractive(key) {\n",
              "        const element = document.querySelector('#df-5bef875b-1bec-4101-b578-7a4e22afe581');\n",
              "        const dataTable =\n",
              "          await google.colab.kernel.invokeFunction('convertToInteractive',\n",
              "                                                    [key], {});\n",
              "        if (!dataTable) return;\n",
              "\n",
              "        const docLinkHtml = 'Like what you see? Visit the ' +\n",
              "          '<a target=\"_blank\" href=https://colab.research.google.com/notebooks/data_table.ipynb>data table notebook</a>'\n",
              "          + ' to learn more about interactive tables.';\n",
              "        element.innerHTML = '';\n",
              "        dataTable['output_type'] = 'display_data';\n",
              "        await google.colab.output.renderOutput(dataTable, element);\n",
              "        const docLink = document.createElement('div');\n",
              "        docLink.innerHTML = docLinkHtml;\n",
              "        element.appendChild(docLink);\n",
              "      }\n",
              "    </script>\n",
              "  </div>\n",
              "\n",
              "\n",
              "<div id=\"df-bbcad628-6202-4233-bed1-188ea0b0065d\">\n",
              "  <button class=\"colab-df-quickchart\" onclick=\"quickchart('df-bbcad628-6202-4233-bed1-188ea0b0065d')\"\n",
              "            title=\"Suggest charts.\"\n",
              "            style=\"display:none;\">\n",
              "\n",
              "<svg xmlns=\"http://www.w3.org/2000/svg\" height=\"24px\"viewBox=\"0 0 24 24\"\n",
              "     width=\"24px\">\n",
              "    <g>\n",
              "        <path d=\"M19 3H5c-1.1 0-2 .9-2 2v14c0 1.1.9 2 2 2h14c1.1 0 2-.9 2-2V5c0-1.1-.9-2-2-2zM9 17H7v-7h2v7zm4 0h-2V7h2v10zm4 0h-2v-4h2v4z\"/>\n",
              "    </g>\n",
              "</svg>\n",
              "  </button>\n",
              "\n",
              "<style>\n",
              "  .colab-df-quickchart {\n",
              "      --bg-color: #E8F0FE;\n",
              "      --fill-color: #1967D2;\n",
              "      --hover-bg-color: #E2EBFA;\n",
              "      --hover-fill-color: #174EA6;\n",
              "      --disabled-fill-color: #AAA;\n",
              "      --disabled-bg-color: #DDD;\n",
              "  }\n",
              "\n",
              "  [theme=dark] .colab-df-quickchart {\n",
              "      --bg-color: #3B4455;\n",
              "      --fill-color: #D2E3FC;\n",
              "      --hover-bg-color: #434B5C;\n",
              "      --hover-fill-color: #FFFFFF;\n",
              "      --disabled-bg-color: #3B4455;\n",
              "      --disabled-fill-color: #666;\n",
              "  }\n",
              "\n",
              "  .colab-df-quickchart {\n",
              "    background-color: var(--bg-color);\n",
              "    border: none;\n",
              "    border-radius: 50%;\n",
              "    cursor: pointer;\n",
              "    display: none;\n",
              "    fill: var(--fill-color);\n",
              "    height: 32px;\n",
              "    padding: 0;\n",
              "    width: 32px;\n",
              "  }\n",
              "\n",
              "  .colab-df-quickchart:hover {\n",
              "    background-color: var(--hover-bg-color);\n",
              "    box-shadow: 0 1px 2px rgba(60, 64, 67, 0.3), 0 1px 3px 1px rgba(60, 64, 67, 0.15);\n",
              "    fill: var(--button-hover-fill-color);\n",
              "  }\n",
              "\n",
              "  .colab-df-quickchart-complete:disabled,\n",
              "  .colab-df-quickchart-complete:disabled:hover {\n",
              "    background-color: var(--disabled-bg-color);\n",
              "    fill: var(--disabled-fill-color);\n",
              "    box-shadow: none;\n",
              "  }\n",
              "\n",
              "  .colab-df-spinner {\n",
              "    border: 2px solid var(--fill-color);\n",
              "    border-color: transparent;\n",
              "    border-bottom-color: var(--fill-color);\n",
              "    animation:\n",
              "      spin 1s steps(1) infinite;\n",
              "  }\n",
              "\n",
              "  @keyframes spin {\n",
              "    0% {\n",
              "      border-color: transparent;\n",
              "      border-bottom-color: var(--fill-color);\n",
              "      border-left-color: var(--fill-color);\n",
              "    }\n",
              "    20% {\n",
              "      border-color: transparent;\n",
              "      border-left-color: var(--fill-color);\n",
              "      border-top-color: var(--fill-color);\n",
              "    }\n",
              "    30% {\n",
              "      border-color: transparent;\n",
              "      border-left-color: var(--fill-color);\n",
              "      border-top-color: var(--fill-color);\n",
              "      border-right-color: var(--fill-color);\n",
              "    }\n",
              "    40% {\n",
              "      border-color: transparent;\n",
              "      border-right-color: var(--fill-color);\n",
              "      border-top-color: var(--fill-color);\n",
              "    }\n",
              "    60% {\n",
              "      border-color: transparent;\n",
              "      border-right-color: var(--fill-color);\n",
              "    }\n",
              "    80% {\n",
              "      border-color: transparent;\n",
              "      border-right-color: var(--fill-color);\n",
              "      border-bottom-color: var(--fill-color);\n",
              "    }\n",
              "    90% {\n",
              "      border-color: transparent;\n",
              "      border-bottom-color: var(--fill-color);\n",
              "    }\n",
              "  }\n",
              "</style>\n",
              "\n",
              "  <script>\n",
              "    async function quickchart(key) {\n",
              "      const quickchartButtonEl =\n",
              "        document.querySelector('#' + key + ' button');\n",
              "      quickchartButtonEl.disabled = true;  // To prevent multiple clicks.\n",
              "      quickchartButtonEl.classList.add('colab-df-spinner');\n",
              "      try {\n",
              "        const charts = await google.colab.kernel.invokeFunction(\n",
              "            'suggestCharts', [key], {});\n",
              "      } catch (error) {\n",
              "        console.error('Error during call to suggestCharts:', error);\n",
              "      }\n",
              "      quickchartButtonEl.classList.remove('colab-df-spinner');\n",
              "      quickchartButtonEl.classList.add('colab-df-quickchart-complete');\n",
              "    }\n",
              "    (() => {\n",
              "      let quickchartButtonEl =\n",
              "        document.querySelector('#df-bbcad628-6202-4233-bed1-188ea0b0065d button');\n",
              "      quickchartButtonEl.style.display =\n",
              "        google.colab.kernel.accessAllowed ? 'block' : 'none';\n",
              "    })();\n",
              "  </script>\n",
              "</div>\n",
              "    </div>\n",
              "  </div>\n"
            ]
          },
          "metadata": {},
          "execution_count": 3
        }
      ]
    },
    {
      "cell_type": "code",
      "source": [
        "df.info()"
      ],
      "metadata": {
        "colab": {
          "base_uri": "https://localhost:8080/"
        },
        "id": "Bsz04lmkXZOC",
        "outputId": "54a11c0f-b213-4185-d591-e8bde4a576c4"
      },
      "execution_count": 4,
      "outputs": [
        {
          "output_type": "stream",
          "name": "stdout",
          "text": [
            "<class 'pandas.core.frame.DataFrame'>\n",
            "RangeIndex: 1338 entries, 0 to 1337\n",
            "Data columns (total 7 columns):\n",
            " #   Column    Non-Null Count  Dtype  \n",
            "---  ------    --------------  -----  \n",
            " 0   age       1338 non-null   int64  \n",
            " 1   sex       1338 non-null   object \n",
            " 2   bmi       1338 non-null   float64\n",
            " 3   children  1338 non-null   int64  \n",
            " 4   smoker    1338 non-null   object \n",
            " 5   region    1338 non-null   object \n",
            " 6   charges   1338 non-null   float64\n",
            "dtypes: float64(2), int64(2), object(3)\n",
            "memory usage: 73.3+ KB\n"
          ]
        }
      ]
    },
    {
      "cell_type": "code",
      "source": [
        "df.describe().T"
      ],
      "metadata": {
        "colab": {
          "base_uri": "https://localhost:8080/",
          "height": 175
        },
        "id": "Kr8iMR9KYMb9",
        "outputId": "91c2657d-5491-4150-c3ce-dde344184c20"
      },
      "execution_count": 5,
      "outputs": [
        {
          "output_type": "execute_result",
          "data": {
            "text/plain": [
              "           count          mean           std        min         25%       50%  \\\n",
              "age       1338.0     39.207025     14.049960    18.0000    27.00000    39.000   \n",
              "bmi       1338.0     30.663397      6.098187    15.9600    26.29625    30.400   \n",
              "children  1338.0      1.094918      1.205493     0.0000     0.00000     1.000   \n",
              "charges   1338.0  13270.422265  12110.011237  1121.8739  4740.28715  9382.033   \n",
              "\n",
              "                   75%          max  \n",
              "age          51.000000     64.00000  \n",
              "bmi          34.693750     53.13000  \n",
              "children      2.000000      5.00000  \n",
              "charges   16639.912515  63770.42801  "
            ],
            "text/html": [
              "\n",
              "  <div id=\"df-4f5f0e52-fb0e-4dde-839e-9fb855a8c33d\" class=\"colab-df-container\">\n",
              "    <div>\n",
              "<style scoped>\n",
              "    .dataframe tbody tr th:only-of-type {\n",
              "        vertical-align: middle;\n",
              "    }\n",
              "\n",
              "    .dataframe tbody tr th {\n",
              "        vertical-align: top;\n",
              "    }\n",
              "\n",
              "    .dataframe thead th {\n",
              "        text-align: right;\n",
              "    }\n",
              "</style>\n",
              "<table border=\"1\" class=\"dataframe\">\n",
              "  <thead>\n",
              "    <tr style=\"text-align: right;\">\n",
              "      <th></th>\n",
              "      <th>count</th>\n",
              "      <th>mean</th>\n",
              "      <th>std</th>\n",
              "      <th>min</th>\n",
              "      <th>25%</th>\n",
              "      <th>50%</th>\n",
              "      <th>75%</th>\n",
              "      <th>max</th>\n",
              "    </tr>\n",
              "  </thead>\n",
              "  <tbody>\n",
              "    <tr>\n",
              "      <th>age</th>\n",
              "      <td>1338.0</td>\n",
              "      <td>39.207025</td>\n",
              "      <td>14.049960</td>\n",
              "      <td>18.0000</td>\n",
              "      <td>27.00000</td>\n",
              "      <td>39.000</td>\n",
              "      <td>51.000000</td>\n",
              "      <td>64.00000</td>\n",
              "    </tr>\n",
              "    <tr>\n",
              "      <th>bmi</th>\n",
              "      <td>1338.0</td>\n",
              "      <td>30.663397</td>\n",
              "      <td>6.098187</td>\n",
              "      <td>15.9600</td>\n",
              "      <td>26.29625</td>\n",
              "      <td>30.400</td>\n",
              "      <td>34.693750</td>\n",
              "      <td>53.13000</td>\n",
              "    </tr>\n",
              "    <tr>\n",
              "      <th>children</th>\n",
              "      <td>1338.0</td>\n",
              "      <td>1.094918</td>\n",
              "      <td>1.205493</td>\n",
              "      <td>0.0000</td>\n",
              "      <td>0.00000</td>\n",
              "      <td>1.000</td>\n",
              "      <td>2.000000</td>\n",
              "      <td>5.00000</td>\n",
              "    </tr>\n",
              "    <tr>\n",
              "      <th>charges</th>\n",
              "      <td>1338.0</td>\n",
              "      <td>13270.422265</td>\n",
              "      <td>12110.011237</td>\n",
              "      <td>1121.8739</td>\n",
              "      <td>4740.28715</td>\n",
              "      <td>9382.033</td>\n",
              "      <td>16639.912515</td>\n",
              "      <td>63770.42801</td>\n",
              "    </tr>\n",
              "  </tbody>\n",
              "</table>\n",
              "</div>\n",
              "    <div class=\"colab-df-buttons\">\n",
              "\n",
              "  <div class=\"colab-df-container\">\n",
              "    <button class=\"colab-df-convert\" onclick=\"convertToInteractive('df-4f5f0e52-fb0e-4dde-839e-9fb855a8c33d')\"\n",
              "            title=\"Convert this dataframe to an interactive table.\"\n",
              "            style=\"display:none;\">\n",
              "\n",
              "  <svg xmlns=\"http://www.w3.org/2000/svg\" height=\"24px\" viewBox=\"0 -960 960 960\">\n",
              "    <path d=\"M120-120v-720h720v720H120Zm60-500h600v-160H180v160Zm220 220h160v-160H400v160Zm0 220h160v-160H400v160ZM180-400h160v-160H180v160Zm440 0h160v-160H620v160ZM180-180h160v-160H180v160Zm440 0h160v-160H620v160Z\"/>\n",
              "  </svg>\n",
              "    </button>\n",
              "\n",
              "  <style>\n",
              "    .colab-df-container {\n",
              "      display:flex;\n",
              "      gap: 12px;\n",
              "    }\n",
              "\n",
              "    .colab-df-convert {\n",
              "      background-color: #E8F0FE;\n",
              "      border: none;\n",
              "      border-radius: 50%;\n",
              "      cursor: pointer;\n",
              "      display: none;\n",
              "      fill: #1967D2;\n",
              "      height: 32px;\n",
              "      padding: 0 0 0 0;\n",
              "      width: 32px;\n",
              "    }\n",
              "\n",
              "    .colab-df-convert:hover {\n",
              "      background-color: #E2EBFA;\n",
              "      box-shadow: 0px 1px 2px rgba(60, 64, 67, 0.3), 0px 1px 3px 1px rgba(60, 64, 67, 0.15);\n",
              "      fill: #174EA6;\n",
              "    }\n",
              "\n",
              "    .colab-df-buttons div {\n",
              "      margin-bottom: 4px;\n",
              "    }\n",
              "\n",
              "    [theme=dark] .colab-df-convert {\n",
              "      background-color: #3B4455;\n",
              "      fill: #D2E3FC;\n",
              "    }\n",
              "\n",
              "    [theme=dark] .colab-df-convert:hover {\n",
              "      background-color: #434B5C;\n",
              "      box-shadow: 0px 1px 3px 1px rgba(0, 0, 0, 0.15);\n",
              "      filter: drop-shadow(0px 1px 2px rgba(0, 0, 0, 0.3));\n",
              "      fill: #FFFFFF;\n",
              "    }\n",
              "  </style>\n",
              "\n",
              "    <script>\n",
              "      const buttonEl =\n",
              "        document.querySelector('#df-4f5f0e52-fb0e-4dde-839e-9fb855a8c33d button.colab-df-convert');\n",
              "      buttonEl.style.display =\n",
              "        google.colab.kernel.accessAllowed ? 'block' : 'none';\n",
              "\n",
              "      async function convertToInteractive(key) {\n",
              "        const element = document.querySelector('#df-4f5f0e52-fb0e-4dde-839e-9fb855a8c33d');\n",
              "        const dataTable =\n",
              "          await google.colab.kernel.invokeFunction('convertToInteractive',\n",
              "                                                    [key], {});\n",
              "        if (!dataTable) return;\n",
              "\n",
              "        const docLinkHtml = 'Like what you see? Visit the ' +\n",
              "          '<a target=\"_blank\" href=https://colab.research.google.com/notebooks/data_table.ipynb>data table notebook</a>'\n",
              "          + ' to learn more about interactive tables.';\n",
              "        element.innerHTML = '';\n",
              "        dataTable['output_type'] = 'display_data';\n",
              "        await google.colab.output.renderOutput(dataTable, element);\n",
              "        const docLink = document.createElement('div');\n",
              "        docLink.innerHTML = docLinkHtml;\n",
              "        element.appendChild(docLink);\n",
              "      }\n",
              "    </script>\n",
              "  </div>\n",
              "\n",
              "\n",
              "<div id=\"df-e6fba21a-a7e7-4047-93c5-6f1eadfb8bcf\">\n",
              "  <button class=\"colab-df-quickchart\" onclick=\"quickchart('df-e6fba21a-a7e7-4047-93c5-6f1eadfb8bcf')\"\n",
              "            title=\"Suggest charts.\"\n",
              "            style=\"display:none;\">\n",
              "\n",
              "<svg xmlns=\"http://www.w3.org/2000/svg\" height=\"24px\"viewBox=\"0 0 24 24\"\n",
              "     width=\"24px\">\n",
              "    <g>\n",
              "        <path d=\"M19 3H5c-1.1 0-2 .9-2 2v14c0 1.1.9 2 2 2h14c1.1 0 2-.9 2-2V5c0-1.1-.9-2-2-2zM9 17H7v-7h2v7zm4 0h-2V7h2v10zm4 0h-2v-4h2v4z\"/>\n",
              "    </g>\n",
              "</svg>\n",
              "  </button>\n",
              "\n",
              "<style>\n",
              "  .colab-df-quickchart {\n",
              "      --bg-color: #E8F0FE;\n",
              "      --fill-color: #1967D2;\n",
              "      --hover-bg-color: #E2EBFA;\n",
              "      --hover-fill-color: #174EA6;\n",
              "      --disabled-fill-color: #AAA;\n",
              "      --disabled-bg-color: #DDD;\n",
              "  }\n",
              "\n",
              "  [theme=dark] .colab-df-quickchart {\n",
              "      --bg-color: #3B4455;\n",
              "      --fill-color: #D2E3FC;\n",
              "      --hover-bg-color: #434B5C;\n",
              "      --hover-fill-color: #FFFFFF;\n",
              "      --disabled-bg-color: #3B4455;\n",
              "      --disabled-fill-color: #666;\n",
              "  }\n",
              "\n",
              "  .colab-df-quickchart {\n",
              "    background-color: var(--bg-color);\n",
              "    border: none;\n",
              "    border-radius: 50%;\n",
              "    cursor: pointer;\n",
              "    display: none;\n",
              "    fill: var(--fill-color);\n",
              "    height: 32px;\n",
              "    padding: 0;\n",
              "    width: 32px;\n",
              "  }\n",
              "\n",
              "  .colab-df-quickchart:hover {\n",
              "    background-color: var(--hover-bg-color);\n",
              "    box-shadow: 0 1px 2px rgba(60, 64, 67, 0.3), 0 1px 3px 1px rgba(60, 64, 67, 0.15);\n",
              "    fill: var(--button-hover-fill-color);\n",
              "  }\n",
              "\n",
              "  .colab-df-quickchart-complete:disabled,\n",
              "  .colab-df-quickchart-complete:disabled:hover {\n",
              "    background-color: var(--disabled-bg-color);\n",
              "    fill: var(--disabled-fill-color);\n",
              "    box-shadow: none;\n",
              "  }\n",
              "\n",
              "  .colab-df-spinner {\n",
              "    border: 2px solid var(--fill-color);\n",
              "    border-color: transparent;\n",
              "    border-bottom-color: var(--fill-color);\n",
              "    animation:\n",
              "      spin 1s steps(1) infinite;\n",
              "  }\n",
              "\n",
              "  @keyframes spin {\n",
              "    0% {\n",
              "      border-color: transparent;\n",
              "      border-bottom-color: var(--fill-color);\n",
              "      border-left-color: var(--fill-color);\n",
              "    }\n",
              "    20% {\n",
              "      border-color: transparent;\n",
              "      border-left-color: var(--fill-color);\n",
              "      border-top-color: var(--fill-color);\n",
              "    }\n",
              "    30% {\n",
              "      border-color: transparent;\n",
              "      border-left-color: var(--fill-color);\n",
              "      border-top-color: var(--fill-color);\n",
              "      border-right-color: var(--fill-color);\n",
              "    }\n",
              "    40% {\n",
              "      border-color: transparent;\n",
              "      border-right-color: var(--fill-color);\n",
              "      border-top-color: var(--fill-color);\n",
              "    }\n",
              "    60% {\n",
              "      border-color: transparent;\n",
              "      border-right-color: var(--fill-color);\n",
              "    }\n",
              "    80% {\n",
              "      border-color: transparent;\n",
              "      border-right-color: var(--fill-color);\n",
              "      border-bottom-color: var(--fill-color);\n",
              "    }\n",
              "    90% {\n",
              "      border-color: transparent;\n",
              "      border-bottom-color: var(--fill-color);\n",
              "    }\n",
              "  }\n",
              "</style>\n",
              "\n",
              "  <script>\n",
              "    async function quickchart(key) {\n",
              "      const quickchartButtonEl =\n",
              "        document.querySelector('#' + key + ' button');\n",
              "      quickchartButtonEl.disabled = true;  // To prevent multiple clicks.\n",
              "      quickchartButtonEl.classList.add('colab-df-spinner');\n",
              "      try {\n",
              "        const charts = await google.colab.kernel.invokeFunction(\n",
              "            'suggestCharts', [key], {});\n",
              "      } catch (error) {\n",
              "        console.error('Error during call to suggestCharts:', error);\n",
              "      }\n",
              "      quickchartButtonEl.classList.remove('colab-df-spinner');\n",
              "      quickchartButtonEl.classList.add('colab-df-quickchart-complete');\n",
              "    }\n",
              "    (() => {\n",
              "      let quickchartButtonEl =\n",
              "        document.querySelector('#df-e6fba21a-a7e7-4047-93c5-6f1eadfb8bcf button');\n",
              "      quickchartButtonEl.style.display =\n",
              "        google.colab.kernel.accessAllowed ? 'block' : 'none';\n",
              "    })();\n",
              "  </script>\n",
              "</div>\n",
              "    </div>\n",
              "  </div>\n"
            ]
          },
          "metadata": {},
          "execution_count": 5
        }
      ]
    },
    {
      "cell_type": "markdown",
      "source": [
        "When we look at the data set, we see that there are no null values. The standard deviation values are not too high. The distribution of the variables looks normal."
      ],
      "metadata": {
        "id": "R7nhsEQA5MM_"
      }
    },
    {
      "cell_type": "markdown",
      "source": [
        "Let's look at the category information and the number of categories contained in categorical variables."
      ],
      "metadata": {
        "id": "ApLQOf3J85_0"
      }
    },
    {
      "cell_type": "code",
      "source": [
        "print(\"Value counts of {}\\n\".format(df.value_counts(\"sex\")))\n",
        "print(\"Value counts of {}\\n\".format(df.value_counts(\"smoker\")))\n",
        "print(\"Value counts of {}\\n\".format(df.value_counts(\"region\")))"
      ],
      "metadata": {
        "colab": {
          "base_uri": "https://localhost:8080/"
        },
        "id": "UtzJLjXLVVl-",
        "outputId": "f6489afa-6707-4eeb-b218-ca1ab4f57376"
      },
      "execution_count": 6,
      "outputs": [
        {
          "output_type": "stream",
          "name": "stdout",
          "text": [
            "Value counts of sex\n",
            "male      676\n",
            "female    662\n",
            "dtype: int64\n",
            "\n",
            "Value counts of smoker\n",
            "no     1064\n",
            "yes     274\n",
            "dtype: int64\n",
            "\n",
            "Value counts of region\n",
            "southeast    364\n",
            "northwest    325\n",
            "southwest    325\n",
            "northeast    324\n",
            "dtype: int64\n",
            "\n"
          ]
        }
      ]
    },
    {
      "cell_type": "code",
      "source": [
        "f, (ax_box, ax_hist) = plt.subplots(2, sharex=True)\n",
        "\n",
        "sns.boxplot(x=\"bmi\", data=df, width=0.5, fliersize=7, color=\"rosybrown\", ax=ax_box);\n",
        "sns.histplot(x=\"bmi\", data=df, kde=True, bins=30, color=\"seagreen\", ax=ax_hist);"
      ],
      "metadata": {
        "colab": {
          "base_uri": "https://localhost:8080/",
          "height": 449
        },
        "id": "kmLtgxSnlbHF",
        "outputId": "54d0ffd0-6fbb-4eb7-a84c-3f6bb9cb93fc"
      },
      "execution_count": 7,
      "outputs": [
        {
          "output_type": "display_data",
          "data": {
            "text/plain": [
              "<Figure size 640x480 with 2 Axes>"
            ],
            "image/png": "[encoded data removed]"
          },
          "metadata": {}
        }
      ]
    },
    {
      "cell_type": "markdown",
      "source": [
        "If we look at the BMI distribution, the distribution looks normal, but there are outliers. We will be looking at this going forward."
      ],
      "metadata": {
        "id": "kOIkw07O9p4x"
      }
    },
    {
      "cell_type": "code",
      "source": [
        "sns.histplot(df, x=\"smoker\", y=\"charges\", bins=10, color=\"rosybrown\");"
      ],
      "metadata": {
        "colab": {
          "base_uri": "https://localhost:8080/",
          "height": 449
        },
        "id": "XOmfBRswJt2j",
        "outputId": "0008be21-81e5-4457-8555-005db35171bc"
      },
      "execution_count": 8,
      "outputs": [
        {
          "output_type": "display_data",
          "data": {
            "text/plain": [
              "<Figure size 640x480 with 1 Axes>"
            ],
            "image/png": "[encoded data removed]"
          },
          "metadata": {}
        }
      ]
    },
    {
      "cell_type": "markdown",
      "source": [
        "When we compare smoking and charges, we find that smokers have significantly higher charges. The lowest charges values are intensive in non-smokers."
      ],
      "metadata": {
        "id": "3MS7JTdM-Twy"
      }
    },
    {
      "cell_type": "code",
      "source": [
        "sns.countplot(df, x=\"region\", hue=\"smoker\", width=0.5, palette=\"muted\")\n",
        "plt.legend(loc=\"center right\", title=\"smoker\");"
      ],
      "metadata": {
        "colab": {
          "base_uri": "https://localhost:8080/",
          "height": 449
        },
        "id": "UOsPU_uA3CET",
        "outputId": "e907dbe6-d498-44e0-9601-471b5ff8f4d3"
      },
      "execution_count": 9,
      "outputs": [
        {
          "output_type": "display_data",
          "data": {
            "text/plain": [
              "<Figure size 640x480 with 1 Axes>"
            ],
            "image/png": "[encoded data removed]"
          },
          "metadata": {}
        }
      ]
    },
    {
      "cell_type": "markdown",
      "source": [
        "When we compare the region and smoking status, there is not much difference."
      ],
      "metadata": {
        "id": "B6Yt4ln5_Sui"
      }
    },
    {
      "cell_type": "code",
      "source": [
        "sns.histplot(df, x=\"sex\", y=\"bmi\", bins=10, color=\"slategray\");"
      ],
      "metadata": {
        "colab": {
          "base_uri": "https://localhost:8080/",
          "height": 449
        },
        "id": "51BnjmPR3qx4",
        "outputId": "961a52ac-6bf0-41ce-bb52-1466be953946"
      },
      "execution_count": 10,
      "outputs": [
        {
          "output_type": "display_data",
          "data": {
            "text/plain": [
              "<Figure size 640x480 with 1 Axes>"
            ],
            "image/png": "[encoded data removed]"
          },
          "metadata": {}
        }
      ]
    },
    {
      "cell_type": "markdown",
      "source": [
        "It can be said that BMI values are not related to sex."
      ],
      "metadata": {
        "id": "iZR8vdWtALrg"
      }
    },
    {
      "cell_type": "markdown",
      "source": [
        "To see the region with the highest number of children, let's group the regions together and look at the total number of children."
      ],
      "metadata": {
        "id": "PtdIWRHYKuVm"
      }
    },
    {
      "cell_type": "code",
      "source": [
        "df_child = df.groupby(\"region\").sum().reset_index()\n",
        "df_child[[\"region\",\"children\"]]"
      ],
      "metadata": {
        "colab": {
          "base_uri": "https://localhost:8080/",
          "height": 175
        },
        "id": "SwMRqhi6H6AC",
        "outputId": "6c9b55b8-8ce6-4d4c-d075-3a3dd7bb6ba9"
      },
      "execution_count": 11,
      "outputs": [
        {
          "output_type": "execute_result",
          "data": {
            "text/plain": [
              "      region  children\n",
              "0  northeast       339\n",
              "1  northwest       373\n",
              "2  southeast       382\n",
              "3  southwest       371"
            ],
            "text/html": [
              "\n",
              "  <div id=\"df-2c3b2178-a047-4950-88d3-3e2d8fb401fb\" class=\"colab-df-container\">\n",
              "    <div>\n",
              "<style scoped>\n",
              "    .dataframe tbody tr th:only-of-type {\n",
              "        vertical-align: middle;\n",
              "    }\n",
              "\n",
              "    .dataframe tbody tr th {\n",
              "        vertical-align: top;\n",
              "    }\n",
              "\n",
              "    .dataframe thead th {\n",
              "        text-align: right;\n",
              "    }\n",
              "</style>\n",
              "<table border=\"1\" class=\"dataframe\">\n",
              "  <thead>\n",
              "    <tr style=\"text-align: right;\">\n",
              "      <th></th>\n",
              "      <th>region</th>\n",
              "      <th>children</th>\n",
              "    </tr>\n",
              "  </thead>\n",
              "  <tbody>\n",
              "    <tr>\n",
              "      <th>0</th>\n",
              "      <td>northeast</td>\n",
              "      <td>339</td>\n",
              "    </tr>\n",
              "    <tr>\n",
              "      <th>1</th>\n",
              "      <td>northwest</td>\n",
              "      <td>373</td>\n",
              "    </tr>\n",
              "    <tr>\n",
              "      <th>2</th>\n",
              "      <td>southeast</td>\n",
              "      <td>382</td>\n",
              "    </tr>\n",
              "    <tr>\n",
              "      <th>3</th>\n",
              "      <td>southwest</td>\n",
              "      <td>371</td>\n",
              "    </tr>\n",
              "  </tbody>\n",
              "</table>\n",
              "</div>\n",
              "    <div class=\"colab-df-buttons\">\n",
              "\n",
              "  <div class=\"colab-df-container\">\n",
              "    <button class=\"colab-df-convert\" onclick=\"convertToInteractive('df-2c3b2178-a047-4950-88d3-3e2d8fb401fb')\"\n",
              "            title=\"Convert this dataframe to an interactive table.\"\n",
              "            style=\"display:none;\">\n",
              "\n",
              "  <svg xmlns=\"http://www.w3.org/2000/svg\" height=\"24px\" viewBox=\"0 -960 960 960\">\n",
              "    <path d=\"M120-120v-720h720v720H120Zm60-500h600v-160H180v160Zm220 220h160v-160H400v160Zm0 220h160v-160H400v160ZM180-400h160v-160H180v160Zm440 0h160v-160H620v160ZM180-180h160v-160H180v160Zm440 0h160v-160H620v160Z\"/>\n",
              "  </svg>\n",
              "    </button>\n",
              "\n",
              "  <style>\n",
              "    .colab-df-container {\n",
              "      display:flex;\n",
              "      gap: 12px;\n",
              "    }\n",
              "\n",
              "    .colab-df-convert {\n",
              "      background-color: #E8F0FE;\n",
              "      border: none;\n",
              "      border-radius: 50%;\n",
              "      cursor: pointer;\n",
              "      display: none;\n",
              "      fill: #1967D2;\n",
              "      height: 32px;\n",
              "      padding: 0 0 0 0;\n",
              "      width: 32px;\n",
              "    }\n",
              "\n",
              "    .colab-df-convert:hover {\n",
              "      background-color: #E2EBFA;\n",
              "      box-shadow: 0px 1px 2px rgba(60, 64, 67, 0.3), 0px 1px 3px 1px rgba(60, 64, 67, 0.15);\n",
              "      fill: #174EA6;\n",
              "    }\n",
              "\n",
              "    .colab-df-buttons div {\n",
              "      margin-bottom: 4px;\n",
              "    }\n",
              "\n",
              "    [theme=dark] .colab-df-convert {\n",
              "      background-color: #3B4455;\n",
              "      fill: #D2E3FC;\n",
              "    }\n",
              "\n",
              "    [theme=dark] .colab-df-convert:hover {\n",
              "      background-color: #434B5C;\n",
              "      box-shadow: 0px 1px 3px 1px rgba(0, 0, 0, 0.15);\n",
              "      filter: drop-shadow(0px 1px 2px rgba(0, 0, 0, 0.3));\n",
              "      fill: #FFFFFF;\n",
              "    }\n",
              "  </style>\n",
              "\n",
              "    <script>\n",
              "      const buttonEl =\n",
              "        document.querySelector('#df-2c3b2178-a047-4950-88d3-3e2d8fb401fb button.colab-df-convert');\n",
              "      buttonEl.style.display =\n",
              "        google.colab.kernel.accessAllowed ? 'block' : 'none';\n",
              "\n",
              "      async function convertToInteractive(key) {\n",
              "        const element = document.querySelector('#df-2c3b2178-a047-4950-88d3-3e2d8fb401fb');\n",
              "        const dataTable =\n",
              "          await google.colab.kernel.invokeFunction('convertToInteractive',\n",
              "                                                    [key], {});\n",
              "        if (!dataTable) return;\n",
              "\n",
              "        const docLinkHtml = 'Like what you see? Visit the ' +\n",
              "          '<a target=\"_blank\" href=https://colab.research.google.com/notebooks/data_table.ipynb>data table notebook</a>'\n",
              "          + ' to learn more about interactive tables.';\n",
              "        element.innerHTML = '';\n",
              "        dataTable['output_type'] = 'display_data';\n",
              "        await google.colab.output.renderOutput(dataTable, element);\n",
              "        const docLink = document.createElement('div');\n",
              "        docLink.innerHTML = docLinkHtml;\n",
              "        element.appendChild(docLink);\n",
              "      }\n",
              "    </script>\n",
              "  </div>\n",
              "\n",
              "\n",
              "<div id=\"df-70019330-55fc-4146-a65e-596539f01625\">\n",
              "  <button class=\"colab-df-quickchart\" onclick=\"quickchart('df-70019330-55fc-4146-a65e-596539f01625')\"\n",
              "            title=\"Suggest charts.\"\n",
              "            style=\"display:none;\">\n",
              "\n",
              "<svg xmlns=\"http://www.w3.org/2000/svg\" height=\"24px\"viewBox=\"0 0 24 24\"\n",
              "     width=\"24px\">\n",
              "    <g>\n",
              "        <path d=\"M19 3H5c-1.1 0-2 .9-2 2v14c0 1.1.9 2 2 2h14c1.1 0 2-.9 2-2V5c0-1.1-.9-2-2-2zM9 17H7v-7h2v7zm4 0h-2V7h2v10zm4 0h-2v-4h2v4z\"/>\n",
              "    </g>\n",
              "</svg>\n",
              "  </button>\n",
              "\n",
              "<style>\n",
              "  .colab-df-quickchart {\n",
              "      --bg-color: #E8F0FE;\n",
              "      --fill-color: #1967D2;\n",
              "      --hover-bg-color: #E2EBFA;\n",
              "      --hover-fill-color: #174EA6;\n",
              "      --disabled-fill-color: #AAA;\n",
              "      --disabled-bg-color: #DDD;\n",
              "  }\n",
              "\n",
              "  [theme=dark] .colab-df-quickchart {\n",
              "      --bg-color: #3B4455;\n",
              "      --fill-color: #D2E3FC;\n",
              "      --hover-bg-color: #434B5C;\n",
              "      --hover-fill-color: #FFFFFF;\n",
              "      --disabled-bg-color: #3B4455;\n",
              "      --disabled-fill-color: #666;\n",
              "  }\n",
              "\n",
              "  .colab-df-quickchart {\n",
              "    background-color: var(--bg-color);\n",
              "    border: none;\n",
              "    border-radius: 50%;\n",
              "    cursor: pointer;\n",
              "    display: none;\n",
              "    fill: var(--fill-color);\n",
              "    height: 32px;\n",
              "    padding: 0;\n",
              "    width: 32px;\n",
              "  }\n",
              "\n",
              "  .colab-df-quickchart:hover {\n",
              "    background-color: var(--hover-bg-color);\n",
              "    box-shadow: 0 1px 2px rgba(60, 64, 67, 0.3), 0 1px 3px 1px rgba(60, 64, 67, 0.15);\n",
              "    fill: var(--button-hover-fill-color);\n",
              "  }\n",
              "\n",
              "  .colab-df-quickchart-complete:disabled,\n",
              "  .colab-df-quickchart-complete:disabled:hover {\n",
              "    background-color: var(--disabled-bg-color);\n",
              "    fill: var(--disabled-fill-color);\n",
              "    box-shadow: none;\n",
              "  }\n",
              "\n",
              "  .colab-df-spinner {\n",
              "    border: 2px solid var(--fill-color);\n",
              "    border-color: transparent;\n",
              "    border-bottom-color: var(--fill-color);\n",
              "    animation:\n",
              "      spin 1s steps(1) infinite;\n",
              "  }\n",
              "\n",
              "  @keyframes spin {\n",
              "    0% {\n",
              "      border-color: transparent;\n",
              "      border-bottom-color: var(--fill-color);\n",
              "      border-left-color: var(--fill-color);\n",
              "    }\n",
              "    20% {\n",
              "      border-color: transparent;\n",
              "      border-left-color: var(--fill-color);\n",
              "      border-top-color: var(--fill-color);\n",
              "    }\n",
              "    30% {\n",
              "      border-color: transparent;\n",
              "      border-left-color: var(--fill-color);\n",
              "      border-top-color: var(--fill-color);\n",
              "      border-right-color: var(--fill-color);\n",
              "    }\n",
              "    40% {\n",
              "      border-color: transparent;\n",
              "      border-right-color: var(--fill-color);\n",
              "      border-top-color: var(--fill-color);\n",
              "    }\n",
              "    60% {\n",
              "      border-color: transparent;\n",
              "      border-right-color: var(--fill-color);\n",
              "    }\n",
              "    80% {\n",
              "      border-color: transparent;\n",
              "      border-right-color: var(--fill-color);\n",
              "      border-bottom-color: var(--fill-color);\n",
              "    }\n",
              "    90% {\n",
              "      border-color: transparent;\n",
              "      border-bottom-color: var(--fill-color);\n",
              "    }\n",
              "  }\n",
              "</style>\n",
              "\n",
              "  <script>\n",
              "    async function quickchart(key) {\n",
              "      const quickchartButtonEl =\n",
              "        document.querySelector('#' + key + ' button');\n",
              "      quickchartButtonEl.disabled = true;  // To prevent multiple clicks.\n",
              "      quickchartButtonEl.classList.add('colab-df-spinner');\n",
              "      try {\n",
              "        const charts = await google.colab.kernel.invokeFunction(\n",
              "            'suggestCharts', [key], {});\n",
              "      } catch (error) {\n",
              "        console.error('Error during call to suggestCharts:', error);\n",
              "      }\n",
              "      quickchartButtonEl.classList.remove('colab-df-spinner');\n",
              "      quickchartButtonEl.classList.add('colab-df-quickchart-complete');\n",
              "    }\n",
              "    (() => {\n",
              "      let quickchartButtonEl =\n",
              "        document.querySelector('#df-70019330-55fc-4146-a65e-596539f01625 button');\n",
              "      quickchartButtonEl.style.display =\n",
              "        google.colab.kernel.accessAllowed ? 'block' : 'none';\n",
              "    })();\n",
              "  </script>\n",
              "</div>\n",
              "    </div>\n",
              "  </div>\n"
            ]
          },
          "metadata": {},
          "execution_count": 11
        }
      ]
    },
    {
      "cell_type": "markdown",
      "source": [
        "When we analyze the averages, the region with the highest number of children is 'southeast' and it is not very different from the others."
      ],
      "metadata": {
        "id": "jM8YkT0JHZPM"
      }
    },
    {
      "cell_type": "code",
      "source": [
        "sns.histplot(df, x=\"bmi\", y=\"age\", bins=10, color=\"seagreen\");"
      ],
      "metadata": {
        "colab": {
          "base_uri": "https://localhost:8080/",
          "height": 449
        },
        "id": "UPpNN6km3qsD",
        "outputId": "3623c919-830b-454d-8556-b55f0d1cfa78"
      },
      "execution_count": 12,
      "outputs": [
        {
          "output_type": "display_data",
          "data": {
            "text/plain": [
              "<Figure size 640x480 with 1 Axes>"
            ],
            "image/png": "[encoded data removed]"
          },
          "metadata": {}
        }
      ]
    },
    {
      "cell_type": "markdown",
      "source": [
        "If we look at the graph of the BMI and the age, the BMI does not change much with the age, so there is not much relationship between them."
      ],
      "metadata": {
        "id": "_mWCZw8cOkqa"
      }
    },
    {
      "cell_type": "code",
      "source": [
        "sns.histplot(df, x=\"bmi\", y=\"children\", bins=10, color=\"orangered\");"
      ],
      "metadata": {
        "colab": {
          "base_uri": "https://localhost:8080/",
          "height": 449
        },
        "id": "_A5B0DbP3qov",
        "outputId": "68023612-5049-4a4d-db4f-31ea4ce13f3e"
      },
      "execution_count": 13,
      "outputs": [
        {
          "output_type": "display_data",
          "data": {
            "text/plain": [
              "<Figure size 640x480 with 1 Axes>"
            ],
            "image/png": "[encoded data removed]"
          },
          "metadata": {}
        }
      ]
    },
    {
      "cell_type": "markdown",
      "source": [
        "If we look at the graph of number of children and BMI, the distribution is similar according to the number of children. Those with 5 children are closer to being obese than those with no children (BMI>30 is considered obese). Let's also see if BMI has an impact on charges."
      ],
      "metadata": {
        "id": "ALCMz3rTQCPd"
      }
    },
    {
      "cell_type": "code",
      "source": [
        "sns.histplot(df, x=\"bmi\", y=\"charges\", bins=10, color=\"orangered\");"
      ],
      "metadata": {
        "colab": {
          "base_uri": "https://localhost:8080/",
          "height": 449
        },
        "id": "x0dJQ_6p5Ez0",
        "outputId": "8376bf90-faef-4855-ef30-874e2023c8cc"
      },
      "execution_count": 14,
      "outputs": [
        {
          "output_type": "display_data",
          "data": {
            "text/plain": [
              "<Figure size 640x480 with 1 Axes>"
            ],
            "image/png": "[encoded data removed]"
          },
          "metadata": {}
        }
      ]
    },
    {
      "cell_type": "markdown",
      "source": [
        "If we look at the graph of BMI and charges, we see again a density close to obesity. In this case, the above \"close to obesity in those without children\" is meaningless. This means the dataset samples are randomly at this density. However, with high BMIs, the charges are either low or high. These values seem to increase with the presence of another variable in addition to BMI. This could be smoking, as we examined above. Let's look at that as well."
      ],
      "metadata": {
        "id": "Rrg_P60VTyIk"
      }
    },
    {
      "cell_type": "code",
      "source": [
        "sns.scatterplot(df, x=\"bmi\", y=\"charges\", hue=\"smoker\");"
      ],
      "metadata": {
        "colab": {
          "base_uri": "https://localhost:8080/",
          "height": 449
        },
        "id": "vBoFNIAOSXYS",
        "outputId": "b244c539-e7e7-4a0f-c374-9f5d689a5da1"
      },
      "execution_count": 15,
      "outputs": [
        {
          "output_type": "display_data",
          "data": {
            "text/plain": [
              "<Figure size 640x480 with 1 Axes>"
            ],
            "image/png": "[encoded data removed]"
          },
          "metadata": {}
        }
      ]
    },
    {
      "cell_type": "markdown",
      "source": [
        "According to the graph, this variable is 'smoker'. Charges increase according to BMI, but also according to smokers."
      ],
      "metadata": {
        "id": "-1Vju5prUt36"
      }
    },
    {
      "cell_type": "code",
      "source": [
        "sns.barplot(df, x=\"region\", y=\"bmi\", hue=\"smoker\", width=0.5, palette=\"muted\")\n",
        "plt.legend(loc=\"lower right\", title=\"smoker\");"
      ],
      "metadata": {
        "colab": {
          "base_uri": "https://localhost:8080/",
          "height": 449
        },
        "id": "kj99Onwx5nhj",
        "outputId": "c4324fa7-3219-4481-d8c2-0c662c6964c4"
      },
      "execution_count": 16,
      "outputs": [
        {
          "output_type": "display_data",
          "data": {
            "text/plain": [
              "<Figure size 640x480 with 1 Axes>"
            ],
            "image/png": "[encoded data removed]"
          },
          "metadata": {}
        }
      ]
    },
    {
      "cell_type": "markdown",
      "source": [
        "When we compare BMI, region of residence, and smoking status, BMI doesn't change much by region or smoking status. Similarly, smoking status doesn't change much by region."
      ],
      "metadata": {
        "id": "2SssJKM3VxIZ"
      }
    },
    {
      "cell_type": "markdown",
      "source": [
        "Let's examine the outliers we see in the BMI distribution. We look at the number of outliers as below. 9 is a small number, we can delete these rows. However, if we delete the rows and examine the BMI statistic values, deleting these rows does not have much effect. We will not delete the rows."
      ],
      "metadata": {
        "id": "ukj3MWtIf_aG"
      }
    },
    {
      "cell_type": "markdown",
      "source": [
        "![outliers.png](data:image/png;base64,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)"
      ],
      "metadata": {
        "id": "M34zEMjmg_NK"
      }
    },
    {
      "cell_type": "markdown",
      "source": [
        "If we delete the rows and look at the BMI statistic values (images below), deleting these rows doesn't have much effect. We will not delete the rows."
      ],
      "metadata": {
        "id": "KDgxngDZl9uA"
      }
    },
    {
      "cell_type": "markdown",
      "source": [
        "![desc.png](data:image/png;base64,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)"
      ],
      "metadata": {
        "id": "MfBavgAPhQZ1"
      }
    },
    {
      "cell_type": "markdown",
      "source": [
        "Let's start with model selection and try Linear Regression and Random Forest Regression models."
      ],
      "metadata": {
        "id": "vNn_Mi47Xtd1"
      }
    },
    {
      "cell_type": "markdown",
      "source": [
        "We will prepare our data. First, we will split our dataset into dependent and independent variables. The variable 'charges' is our dependent data."
      ],
      "metadata": {
        "id": "8_mqpeZLYXcc"
      }
    },
    {
      "cell_type": "code",
      "source": [
        "X = df.iloc[:,:-1]; X.head()"
      ],
      "metadata": {
        "colab": {
          "base_uri": "https://localhost:8080/",
          "height": 206
        },
        "id": "kWcvhYFEEpEX",
        "outputId": "ab64220c-5805-4d01-dcde-a01edf7f8bc4"
      },
      "execution_count": 17,
      "outputs": [
        {
          "output_type": "execute_result",
          "data": {
            "text/plain": [
              "   age     sex     bmi  children smoker     region\n",
              "0   19  female  27.900         0    yes  southwest\n",
              "1   18    male  33.770         1     no  southeast\n",
              "2   28    male  33.000         3     no  southeast\n",
              "3   33    male  22.705         0     no  northwest\n",
              "4   32    male  28.880         0     no  northwest"
            ],
            "text/html": [
              "\n",
              "  <div id=\"df-3d2f0ea2-02a7-4615-847e-ea1e7734560f\" class=\"colab-df-container\">\n",
              "    <div>\n",
              "<style scoped>\n",
              "    .dataframe tbody tr th:only-of-type {\n",
              "        vertical-align: middle;\n",
              "    }\n",
              "\n",
              "    .dataframe tbody tr th {\n",
              "        vertical-align: top;\n",
              "    }\n",
              "\n",
              "    .dataframe thead th {\n",
              "        text-align: right;\n",
              "    }\n",
              "</style>\n",
              "<table border=\"1\" class=\"dataframe\">\n",
              "  <thead>\n",
              "    <tr style=\"text-align: right;\">\n",
              "      <th></th>\n",
              "      <th>age</th>\n",
              "      <th>sex</th>\n",
              "      <th>bmi</th>\n",
              "      <th>children</th>\n",
              "      <th>smoker</th>\n",
              "      <th>region</th>\n",
              "    </tr>\n",
              "  </thead>\n",
              "  <tbody>\n",
              "    <tr>\n",
              "      <th>0</th>\n",
              "      <td>19</td>\n",
              "      <td>female</td>\n",
              "      <td>27.900</td>\n",
              "      <td>0</td>\n",
              "      <td>yes</td>\n",
              "      <td>southwest</td>\n",
              "    </tr>\n",
              "    <tr>\n",
              "      <th>1</th>\n",
              "      <td>18</td>\n",
              "      <td>male</td>\n",
              "      <td>33.770</td>\n",
              "      <td>1</td>\n",
              "      <td>no</td>\n",
              "      <td>southeast</td>\n",
              "    </tr>\n",
              "    <tr>\n",
              "      <th>2</th>\n",
              "      <td>28</td>\n",
              "      <td>male</td>\n",
              "      <td>33.000</td>\n",
              "      <td>3</td>\n",
              "      <td>no</td>\n",
              "      <td>southeast</td>\n",
              "    </tr>\n",
              "    <tr>\n",
              "      <th>3</th>\n",
              "      <td>33</td>\n",
              "      <td>male</td>\n",
              "      <td>22.705</td>\n",
              "      <td>0</td>\n",
              "      <td>no</td>\n",
              "      <td>northwest</td>\n",
              "    </tr>\n",
              "    <tr>\n",
              "      <th>4</th>\n",
              "      <td>32</td>\n",
              "      <td>male</td>\n",
              "      <td>28.880</td>\n",
              "      <td>0</td>\n",
              "      <td>no</td>\n",
              "      <td>northwest</td>\n",
              "    </tr>\n",
              "  </tbody>\n",
              "</table>\n",
              "</div>\n",
              "    <div class=\"colab-df-buttons\">\n",
              "\n",
              "  <div class=\"colab-df-container\">\n",
              "    <button class=\"colab-df-convert\" onclick=\"convertToInteractive('df-3d2f0ea2-02a7-4615-847e-ea1e7734560f')\"\n",
              "            title=\"Convert this dataframe to an interactive table.\"\n",
              "            style=\"display:none;\">\n",
              "\n",
              "  <svg xmlns=\"http://www.w3.org/2000/svg\" height=\"24px\" viewBox=\"0 -960 960 960\">\n",
              "    <path d=\"M120-120v-720h720v720H120Zm60-500h600v-160H180v160Zm220 220h160v-160H400v160Zm0 220h160v-160H400v160ZM180-400h160v-160H180v160Zm440 0h160v-160H620v160ZM180-180h160v-160H180v160Zm440 0h160v-160H620v160Z\"/>\n",
              "  </svg>\n",
              "    </button>\n",
              "\n",
              "  <style>\n",
              "    .colab-df-container {\n",
              "      display:flex;\n",
              "      gap: 12px;\n",
              "    }\n",
              "\n",
              "    .colab-df-convert {\n",
              "      background-color: #E8F0FE;\n",
              "      border: none;\n",
              "      border-radius: 50%;\n",
              "      cursor: pointer;\n",
              "      display: none;\n",
              "      fill: #1967D2;\n",
              "      height: 32px;\n",
              "      padding: 0 0 0 0;\n",
              "      width: 32px;\n",
              "    }\n",
              "\n",
              "    .colab-df-convert:hover {\n",
              "      background-color: #E2EBFA;\n",
              "      box-shadow: 0px 1px 2px rgba(60, 64, 67, 0.3), 0px 1px 3px 1px rgba(60, 64, 67, 0.15);\n",
              "      fill: #174EA6;\n",
              "    }\n",
              "\n",
              "    .colab-df-buttons div {\n",
              "      margin-bottom: 4px;\n",
              "    }\n",
              "\n",
              "    [theme=dark] .colab-df-convert {\n",
              "      background-color: #3B4455;\n",
              "      fill: #D2E3FC;\n",
              "    }\n",
              "\n",
              "    [theme=dark] .colab-df-convert:hover {\n",
              "      background-color: #434B5C;\n",
              "      box-shadow: 0px 1px 3px 1px rgba(0, 0, 0, 0.15);\n",
              "      filter: drop-shadow(0px 1px 2px rgba(0, 0, 0, 0.3));\n",
              "      fill: #FFFFFF;\n",
              "    }\n",
              "  </style>\n",
              "\n",
              "    <script>\n",
              "      const buttonEl =\n",
              "        document.querySelector('#df-3d2f0ea2-02a7-4615-847e-ea1e7734560f button.colab-df-convert');\n",
              "      buttonEl.style.display =\n",
              "        google.colab.kernel.accessAllowed ? 'block' : 'none';\n",
              "\n",
              "      async function convertToInteractive(key) {\n",
              "        const element = document.querySelector('#df-3d2f0ea2-02a7-4615-847e-ea1e7734560f');\n",
              "        const dataTable =\n",
              "          await google.colab.kernel.invokeFunction('convertToInteractive',\n",
              "                                                    [key], {});\n",
              "        if (!dataTable) return;\n",
              "\n",
              "        const docLinkHtml = 'Like what you see? Visit the ' +\n",
              "          '<a target=\"_blank\" href=https://colab.research.google.com/notebooks/data_table.ipynb>data table notebook</a>'\n",
              "          + ' to learn more about interactive tables.';\n",
              "        element.innerHTML = '';\n",
              "        dataTable['output_type'] = 'display_data';\n",
              "        await google.colab.output.renderOutput(dataTable, element);\n",
              "        const docLink = document.createElement('div');\n",
              "        docLink.innerHTML = docLinkHtml;\n",
              "        element.appendChild(docLink);\n",
              "      }\n",
              "    </script>\n",
              "  </div>\n",
              "\n",
              "\n",
              "<div id=\"df-b76d9503-eb6a-4de8-85c9-d7ac1450ab84\">\n",
              "  <button class=\"colab-df-quickchart\" onclick=\"quickchart('df-b76d9503-eb6a-4de8-85c9-d7ac1450ab84')\"\n",
              "            title=\"Suggest charts.\"\n",
              "            style=\"display:none;\">\n",
              "\n",
              "<svg xmlns=\"http://www.w3.org/2000/svg\" height=\"24px\"viewBox=\"0 0 24 24\"\n",
              "     width=\"24px\">\n",
              "    <g>\n",
              "        <path d=\"M19 3H5c-1.1 0-2 .9-2 2v14c0 1.1.9 2 2 2h14c1.1 0 2-.9 2-2V5c0-1.1-.9-2-2-2zM9 17H7v-7h2v7zm4 0h-2V7h2v10zm4 0h-2v-4h2v4z\"/>\n",
              "    </g>\n",
              "</svg>\n",
              "  </button>\n",
              "\n",
              "<style>\n",
              "  .colab-df-quickchart {\n",
              "      --bg-color: #E8F0FE;\n",
              "      --fill-color: #1967D2;\n",
              "      --hover-bg-color: #E2EBFA;\n",
              "      --hover-fill-color: #174EA6;\n",
              "      --disabled-fill-color: #AAA;\n",
              "      --disabled-bg-color: #DDD;\n",
              "  }\n",
              "\n",
              "  [theme=dark] .colab-df-quickchart {\n",
              "      --bg-color: #3B4455;\n",
              "      --fill-color: #D2E3FC;\n",
              "      --hover-bg-color: #434B5C;\n",
              "      --hover-fill-color: #FFFFFF;\n",
              "      --disabled-bg-color: #3B4455;\n",
              "      --disabled-fill-color: #666;\n",
              "  }\n",
              "\n",
              "  .colab-df-quickchart {\n",
              "    background-color: var(--bg-color);\n",
              "    border: none;\n",
              "    border-radius: 50%;\n",
              "    cursor: pointer;\n",
              "    display: none;\n",
              "    fill: var(--fill-color);\n",
              "    height: 32px;\n",
              "    padding: 0;\n",
              "    width: 32px;\n",
              "  }\n",
              "\n",
              "  .colab-df-quickchart:hover {\n",
              "    background-color: var(--hover-bg-color);\n",
              "    box-shadow: 0 1px 2px rgba(60, 64, 67, 0.3), 0 1px 3px 1px rgba(60, 64, 67, 0.15);\n",
              "    fill: var(--button-hover-fill-color);\n",
              "  }\n",
              "\n",
              "  .colab-df-quickchart-complete:disabled,\n",
              "  .colab-df-quickchart-complete:disabled:hover {\n",
              "    background-color: var(--disabled-bg-color);\n",
              "    fill: var(--disabled-fill-color);\n",
              "    box-shadow: none;\n",
              "  }\n",
              "\n",
              "  .colab-df-spinner {\n",
              "    border: 2px solid var(--fill-color);\n",
              "    border-color: transparent;\n",
              "    border-bottom-color: var(--fill-color);\n",
              "    animation:\n",
              "      spin 1s steps(1) infinite;\n",
              "  }\n",
              "\n",
              "  @keyframes spin {\n",
              "    0% {\n",
              "      border-color: transparent;\n",
              "      border-bottom-color: var(--fill-color);\n",
              "      border-left-color: var(--fill-color);\n",
              "    }\n",
              "    20% {\n",
              "      border-color: transparent;\n",
              "      border-left-color: var(--fill-color);\n",
              "      border-top-color: var(--fill-color);\n",
              "    }\n",
              "    30% {\n",
              "      border-color: transparent;\n",
              "      border-left-color: var(--fill-color);\n",
              "      border-top-color: var(--fill-color);\n",
              "      border-right-color: var(--fill-color);\n",
              "    }\n",
              "    40% {\n",
              "      border-color: transparent;\n",
              "      border-right-color: var(--fill-color);\n",
              "      border-top-color: var(--fill-color);\n",
              "    }\n",
              "    60% {\n",
              "      border-color: transparent;\n",
              "      border-right-color: var(--fill-color);\n",
              "    }\n",
              "    80% {\n",
              "      border-color: transparent;\n",
              "      border-right-color: var(--fill-color);\n",
              "      border-bottom-color: var(--fill-color);\n",
              "    }\n",
              "    90% {\n",
              "      border-color: transparent;\n",
              "      border-bottom-color: var(--fill-color);\n",
              "    }\n",
              "  }\n",
              "</style>\n",
              "\n",
              "  <script>\n",
              "    async function quickchart(key) {\n",
              "      const quickchartButtonEl =\n",
              "        document.querySelector('#' + key + ' button');\n",
              "      quickchartButtonEl.disabled = true;  // To prevent multiple clicks.\n",
              "      quickchartButtonEl.classList.add('colab-df-spinner');\n",
              "      try {\n",
              "        const charts = await google.colab.kernel.invokeFunction(\n",
              "            'suggestCharts', [key], {});\n",
              "      } catch (error) {\n",
              "        console.error('Error during call to suggestCharts:', error);\n",
              "      }\n",
              "      quickchartButtonEl.classList.remove('colab-df-spinner');\n",
              "      quickchartButtonEl.classList.add('colab-df-quickchart-complete');\n",
              "    }\n",
              "    (() => {\n",
              "      let quickchartButtonEl =\n",
              "        document.querySelector('#df-b76d9503-eb6a-4de8-85c9-d7ac1450ab84 button');\n",
              "      quickchartButtonEl.style.display =\n",
              "        google.colab.kernel.accessAllowed ? 'block' : 'none';\n",
              "    })();\n",
              "  </script>\n",
              "</div>\n",
              "    </div>\n",
              "  </div>\n"
            ]
          },
          "metadata": {},
          "execution_count": 17
        }
      ]
    },
    {
      "cell_type": "code",
      "source": [
        "y = df.iloc[:,-1]; y.head()"
      ],
      "metadata": {
        "colab": {
          "base_uri": "https://localhost:8080/"
        },
        "id": "JO1POK0glYiw",
        "outputId": "42368ab2-6682-465f-c162-ece7077b0a91"
      },
      "execution_count": 18,
      "outputs": [
        {
          "output_type": "execute_result",
          "data": {
            "text/plain": [
              "0    16884.92400\n",
              "1     1725.55230\n",
              "2     4449.46200\n",
              "3    21984.47061\n",
              "4     3866.85520\n",
              "Name: charges, dtype: float64"
            ]
          },
          "metadata": {},
          "execution_count": 18
        }
      ]
    },
    {
      "cell_type": "markdown",
      "source": [
        "We need to convert our categorical data into binary values. We will apply Label Encoding to a column with only two categories and One Hot Encoding to a column with more than two categories."
      ],
      "metadata": {
        "id": "N60evWQTpJ6i"
      }
    },
    {
      "cell_type": "code",
      "source": [
        "col_list = [\"sex\", \"smoker\"]\n",
        "le = LabelEncoder()\n",
        "X[col_list] = X[col_list].apply(le.fit_transform)"
      ],
      "metadata": {
        "id": "ppvgUusemJul"
      },
      "execution_count": 19,
      "outputs": []
    },
    {
      "cell_type": "code",
      "source": [
        "ct = ColumnTransformer(transformers = [(\"encoderone\", OneHotEncoder(), [-1])], remainder = \"passthrough\")\n",
        "X = np.array(ct.fit_transform(X))"
      ],
      "metadata": {
        "id": "i71D42V7qDiy"
      },
      "execution_count": 20,
      "outputs": []
    },
    {
      "cell_type": "markdown",
      "source": [
        "Let's split our data into test and training sets."
      ],
      "metadata": {
        "id": "96nytQNCaFhT"
      }
    },
    {
      "cell_type": "code",
      "source": [
        "X_train, X_test, y_train, y_test = train_test_split(X, y, test_size=0.20, random_state=1)"
      ],
      "metadata": {
        "id": "DHFXzzQYvhJ_"
      },
      "execution_count": 21,
      "outputs": []
    },
    {
      "cell_type": "code",
      "source": [
        "X_train"
      ],
      "metadata": {
        "colab": {
          "base_uri": "https://localhost:8080/"
        },
        "id": "De-LSVFAPqNy",
        "outputId": "acdf6479-8f3d-4618-95d3-dd2fa59ef666"
      },
      "execution_count": 22,
      "outputs": [
        {
          "output_type": "execute_result",
          "data": {
            "text/plain": [
              "array([[ 0.  ,  1.  ,  0.  , ..., 26.6 ,  0.  ,  0.  ],\n",
              "       [ 0.  ,  0.  ,  0.  , ..., 21.4 ,  1.  ,  0.  ],\n",
              "       [ 0.  ,  0.  ,  1.  , ..., 37.29,  0.  ,  0.  ],\n",
              "       ...,\n",
              "       [ 1.  ,  0.  ,  0.  , ..., 34.96,  2.  ,  1.  ],\n",
              "       [ 0.  ,  0.  ,  1.  , ..., 22.22,  2.  ,  1.  ],\n",
              "       [ 0.  ,  0.  ,  1.  , ..., 27.94,  1.  ,  0.  ]])"
            ]
          },
          "metadata": {},
          "execution_count": 22
        }
      ]
    },
    {
      "cell_type": "markdown",
      "source": [
        "Since the data are numerically very far apart according to the variables, we use scaling to bring them closer together. Let's use the Standard Scaling method."
      ],
      "metadata": {
        "id": "0yZE-IUYb9QS"
      }
    },
    {
      "cell_type": "code",
      "source": [
        "y_train = pd.DataFrame(y_train)\n",
        "y_test = pd.DataFrame(y_test)\n",
        "#StandartScaler yapabilmek için DataFrame'e dönüştürmeliyiz."
      ],
      "metadata": {
        "id": "UpZ_gfUgPuO4"
      },
      "execution_count": 23,
      "outputs": []
    },
    {
      "cell_type": "code",
      "source": [
        "y_train"
      ],
      "metadata": {
        "colab": {
          "base_uri": "https://localhost:8080/",
          "height": 424
        },
        "id": "F9XOFCelUYpf",
        "outputId": "ef7c205d-c0fa-42f0-83ab-280e94725d1f"
      },
      "execution_count": 24,
      "outputs": [
        {
          "output_type": "execute_result",
          "data": {
            "text/plain": [
              "          charges\n",
              "216   10355.64100\n",
              "731   10065.41300\n",
              "866    1141.44510\n",
              "202   13012.20865\n",
              "820    7445.91800\n",
              "...           ...\n",
              "715   12146.97100\n",
              "905    4564.19145\n",
              "1096  44641.19740\n",
              "235   19444.26580\n",
              "1061  11554.22360\n",
              "\n",
              "[1070 rows x 1 columns]"
            ],
            "text/html": [
              "\n",
              "  <div id=\"df-1a44d5bf-0964-45d9-b4b8-8b3e04f96af5\" class=\"colab-df-container\">\n",
              "    <div>\n",
              "<style scoped>\n",
              "    .dataframe tbody tr th:only-of-type {\n",
              "        vertical-align: middle;\n",
              "    }\n",
              "\n",
              "    .dataframe tbody tr th {\n",
              "        vertical-align: top;\n",
              "    }\n",
              "\n",
              "    .dataframe thead th {\n",
              "        text-align: right;\n",
              "    }\n",
              "</style>\n",
              "<table border=\"1\" class=\"dataframe\">\n",
              "  <thead>\n",
              "    <tr style=\"text-align: right;\">\n",
              "      <th></th>\n",
              "      <th>charges</th>\n",
              "    </tr>\n",
              "  </thead>\n",
              "  <tbody>\n",
              "    <tr>\n",
              "      <th>216</th>\n",
              "      <td>10355.64100</td>\n",
              "    </tr>\n",
              "    <tr>\n",
              "      <th>731</th>\n",
              "      <td>10065.41300</td>\n",
              "    </tr>\n",
              "    <tr>\n",
              "      <th>866</th>\n",
              "      <td>1141.44510</td>\n",
              "    </tr>\n",
              "    <tr>\n",
              "      <th>202</th>\n",
              "      <td>13012.20865</td>\n",
              "    </tr>\n",
              "    <tr>\n",
              "      <th>820</th>\n",
              "      <td>7445.91800</td>\n",
              "    </tr>\n",
              "    <tr>\n",
              "      <th>...</th>\n",
              "      <td>...</td>\n",
              "    </tr>\n",
              "    <tr>\n",
              "      <th>715</th>\n",
              "      <td>12146.97100</td>\n",
              "    </tr>\n",
              "    <tr>\n",
              "      <th>905</th>\n",
              "      <td>4564.19145</td>\n",
              "    </tr>\n",
              "    <tr>\n",
              "      <th>1096</th>\n",
              "      <td>44641.19740</td>\n",
              "    </tr>\n",
              "    <tr>\n",
              "      <th>235</th>\n",
              "      <td>19444.26580</td>\n",
              "    </tr>\n",
              "    <tr>\n",
              "      <th>1061</th>\n",
              "      <td>11554.22360</td>\n",
              "    </tr>\n",
              "  </tbody>\n",
              "</table>\n",
              "<p>1070 rows × 1 columns</p>\n",
              "</div>\n",
              "    <div class=\"colab-df-buttons\">\n",
              "\n",
              "  <div class=\"colab-df-container\">\n",
              "    <button class=\"colab-df-convert\" onclick=\"convertToInteractive('df-1a44d5bf-0964-45d9-b4b8-8b3e04f96af5')\"\n",
              "            title=\"Convert this dataframe to an interactive table.\"\n",
              "            style=\"display:none;\">\n",
              "\n",
              "  <svg xmlns=\"http://www.w3.org/2000/svg\" height=\"24px\" viewBox=\"0 -960 960 960\">\n",
              "    <path d=\"M120-120v-720h720v720H120Zm60-500h600v-160H180v160Zm220 220h160v-160H400v160Zm0 220h160v-160H400v160ZM180-400h160v-160H180v160Zm440 0h160v-160H620v160ZM180-180h160v-160H180v160Zm440 0h160v-160H620v160Z\"/>\n",
              "  </svg>\n",
              "    </button>\n",
              "\n",
              "  <style>\n",
              "    .colab-df-container {\n",
              "      display:flex;\n",
              "      gap: 12px;\n",
              "    }\n",
              "\n",
              "    .colab-df-convert {\n",
              "      background-color: #E8F0FE;\n",
              "      border: none;\n",
              "      border-radius: 50%;\n",
              "      cursor: pointer;\n",
              "      display: none;\n",
              "      fill: #1967D2;\n",
              "      height: 32px;\n",
              "      padding: 0 0 0 0;\n",
              "      width: 32px;\n",
              "    }\n",
              "\n",
              "    .colab-df-convert:hover {\n",
              "      background-color: #E2EBFA;\n",
              "      box-shadow: 0px 1px 2px rgba(60, 64, 67, 0.3), 0px 1px 3px 1px rgba(60, 64, 67, 0.15);\n",
              "      fill: #174EA6;\n",
              "    }\n",
              "\n",
              "    .colab-df-buttons div {\n",
              "      margin-bottom: 4px;\n",
              "    }\n",
              "\n",
              "    [theme=dark] .colab-df-convert {\n",
              "      background-color: #3B4455;\n",
              "      fill: #D2E3FC;\n",
              "    }\n",
              "\n",
              "    [theme=dark] .colab-df-convert:hover {\n",
              "      background-color: #434B5C;\n",
              "      box-shadow: 0px 1px 3px 1px rgba(0, 0, 0, 0.15);\n",
              "      filter: drop-shadow(0px 1px 2px rgba(0, 0, 0, 0.3));\n",
              "      fill: #FFFFFF;\n",
              "    }\n",
              "  </style>\n",
              "\n",
              "    <script>\n",
              "      const buttonEl =\n",
              "        document.querySelector('#df-1a44d5bf-0964-45d9-b4b8-8b3e04f96af5 button.colab-df-convert');\n",
              "      buttonEl.style.display =\n",
              "        google.colab.kernel.accessAllowed ? 'block' : 'none';\n",
              "\n",
              "      async function convertToInteractive(key) {\n",
              "        const element = document.querySelector('#df-1a44d5bf-0964-45d9-b4b8-8b3e04f96af5');\n",
              "        const dataTable =\n",
              "          await google.colab.kernel.invokeFunction('convertToInteractive',\n",
              "                                                    [key], {});\n",
              "        if (!dataTable) return;\n",
              "\n",
              "        const docLinkHtml = 'Like what you see? Visit the ' +\n",
              "          '<a target=\"_blank\" href=https://colab.research.google.com/notebooks/data_table.ipynb>data table notebook</a>'\n",
              "          + ' to learn more about interactive tables.';\n",
              "        element.innerHTML = '';\n",
              "        dataTable['output_type'] = 'display_data';\n",
              "        await google.colab.output.renderOutput(dataTable, element);\n",
              "        const docLink = document.createElement('div');\n",
              "        docLink.innerHTML = docLinkHtml;\n",
              "        element.appendChild(docLink);\n",
              "      }\n",
              "    </script>\n",
              "  </div>\n",
              "\n",
              "\n",
              "<div id=\"df-d5cf5b96-03ca-45ad-9c90-e0d059fd0b61\">\n",
              "  <button class=\"colab-df-quickchart\" onclick=\"quickchart('df-d5cf5b96-03ca-45ad-9c90-e0d059fd0b61')\"\n",
              "            title=\"Suggest charts.\"\n",
              "            style=\"display:none;\">\n",
              "\n",
              "<svg xmlns=\"http://www.w3.org/2000/svg\" height=\"24px\"viewBox=\"0 0 24 24\"\n",
              "     width=\"24px\">\n",
              "    <g>\n",
              "        <path d=\"M19 3H5c-1.1 0-2 .9-2 2v14c0 1.1.9 2 2 2h14c1.1 0 2-.9 2-2V5c0-1.1-.9-2-2-2zM9 17H7v-7h2v7zm4 0h-2V7h2v10zm4 0h-2v-4h2v4z\"/>\n",
              "    </g>\n",
              "</svg>\n",
              "  </button>\n",
              "\n",
              "<style>\n",
              "  .colab-df-quickchart {\n",
              "      --bg-color: #E8F0FE;\n",
              "      --fill-color: #1967D2;\n",
              "      --hover-bg-color: #E2EBFA;\n",
              "      --hover-fill-color: #174EA6;\n",
              "      --disabled-fill-color: #AAA;\n",
              "      --disabled-bg-color: #DDD;\n",
              "  }\n",
              "\n",
              "  [theme=dark] .colab-df-quickchart {\n",
              "      --bg-color: #3B4455;\n",
              "      --fill-color: #D2E3FC;\n",
              "      --hover-bg-color: #434B5C;\n",
              "      --hover-fill-color: #FFFFFF;\n",
              "      --disabled-bg-color: #3B4455;\n",
              "      --disabled-fill-color: #666;\n",
              "  }\n",
              "\n",
              "  .colab-df-quickchart {\n",
              "    background-color: var(--bg-color);\n",
              "    border: none;\n",
              "    border-radius: 50%;\n",
              "    cursor: pointer;\n",
              "    display: none;\n",
              "    fill: var(--fill-color);\n",
              "    height: 32px;\n",
              "    padding: 0;\n",
              "    width: 32px;\n",
              "  }\n",
              "\n",
              "  .colab-df-quickchart:hover {\n",
              "    background-color: var(--hover-bg-color);\n",
              "    box-shadow: 0 1px 2px rgba(60, 64, 67, 0.3), 0 1px 3px 1px rgba(60, 64, 67, 0.15);\n",
              "    fill: var(--button-hover-fill-color);\n",
              "  }\n",
              "\n",
              "  .colab-df-quickchart-complete:disabled,\n",
              "  .colab-df-quickchart-complete:disabled:hover {\n",
              "    background-color: var(--disabled-bg-color);\n",
              "    fill: var(--disabled-fill-color);\n",
              "    box-shadow: none;\n",
              "  }\n",
              "\n",
              "  .colab-df-spinner {\n",
              "    border: 2px solid var(--fill-color);\n",
              "    border-color: transparent;\n",
              "    border-bottom-color: var(--fill-color);\n",
              "    animation:\n",
              "      spin 1s steps(1) infinite;\n",
              "  }\n",
              "\n",
              "  @keyframes spin {\n",
              "    0% {\n",
              "      border-color: transparent;\n",
              "      border-bottom-color: var(--fill-color);\n",
              "      border-left-color: var(--fill-color);\n",
              "    }\n",
              "    20% {\n",
              "      border-color: transparent;\n",
              "      border-left-color: var(--fill-color);\n",
              "      border-top-color: var(--fill-color);\n",
              "    }\n",
              "    30% {\n",
              "      border-color: transparent;\n",
              "      border-left-color: var(--fill-color);\n",
              "      border-top-color: var(--fill-color);\n",
              "      border-right-color: var(--fill-color);\n",
              "    }\n",
              "    40% {\n",
              "      border-color: transparent;\n",
              "      border-right-color: var(--fill-color);\n",
              "      border-top-color: var(--fill-color);\n",
              "    }\n",
              "    60% {\n",
              "      border-color: transparent;\n",
              "      border-right-color: var(--fill-color);\n",
              "    }\n",
              "    80% {\n",
              "      border-color: transparent;\n",
              "      border-right-color: var(--fill-color);\n",
              "      border-bottom-color: var(--fill-color);\n",
              "    }\n",
              "    90% {\n",
              "      border-color: transparent;\n",
              "      border-bottom-color: var(--fill-color);\n",
              "    }\n",
              "  }\n",
              "</style>\n",
              "\n",
              "  <script>\n",
              "    async function quickchart(key) {\n",
              "      const quickchartButtonEl =\n",
              "        document.querySelector('#' + key + ' button');\n",
              "      quickchartButtonEl.disabled = true;  // To prevent multiple clicks.\n",
              "      quickchartButtonEl.classList.add('colab-df-spinner');\n",
              "      try {\n",
              "        const charts = await google.colab.kernel.invokeFunction(\n",
              "            'suggestCharts', [key], {});\n",
              "      } catch (error) {\n",
              "        console.error('Error during call to suggestCharts:', error);\n",
              "      }\n",
              "      quickchartButtonEl.classList.remove('colab-df-spinner');\n",
              "      quickchartButtonEl.classList.add('colab-df-quickchart-complete');\n",
              "    }\n",
              "    (() => {\n",
              "      let quickchartButtonEl =\n",
              "        document.querySelector('#df-d5cf5b96-03ca-45ad-9c90-e0d059fd0b61 button');\n",
              "      quickchartButtonEl.style.display =\n",
              "        google.colab.kernel.accessAllowed ? 'block' : 'none';\n",
              "    })();\n",
              "  </script>\n",
              "</div>\n",
              "    </div>\n",
              "  </div>\n"
            ]
          },
          "metadata": {},
          "execution_count": 24
        }
      ]
    },
    {
      "cell_type": "code",
      "source": [
        "ct = ColumnTransformer(transformers = [(\"scalerst\", StandardScaler(), [4,6])], remainder = \"passthrough\")\n",
        "X_train = np.array(ct.fit_transform(X_train))\n",
        "\n",
        "ct = ColumnTransformer(transformers = [(\"scalerst\", StandardScaler(), [4,6])], remainder = \"passthrough\")\n",
        "X_test = np.array(ct.fit_transform(X_test))\n",
        "\n",
        "ct = ColumnTransformer(transformers = [(\"scalerst\", StandardScaler(), [0])], remainder = \"passthrough\")\n",
        "y_train = np.array(ct.fit_transform(y_train))\n",
        "\n",
        "ct = ColumnTransformer(transformers = [(\"scalerst\", StandardScaler(), [0])], remainder = \"passthrough\")\n",
        "y_test = np.array(ct.fit_transform(y_test))"
      ],
      "metadata": {
        "id": "dRLHsbnyAElJ"
      },
      "execution_count": 25,
      "outputs": []
    },
    {
      "cell_type": "code",
      "source": [
        "X_train"
      ],
      "metadata": {
        "colab": {
          "base_uri": "https://localhost:8080/"
        },
        "id": "xx7wcsEROqj4",
        "outputId": "8eedb558-049e-4152-ca9e-1524834156e7"
      },
      "execution_count": 26,
      "outputs": [
        {
          "output_type": "execute_result",
          "data": {
            "text/plain": [
              "array([[ 1.00228629, -0.66474472,  0.        , ...,  0.        ,\n",
              "         0.        ,  0.        ],\n",
              "       [ 1.00228629, -1.51402369,  0.        , ...,  1.        ,\n",
              "         1.        ,  0.        ],\n",
              "       [-1.50426607,  1.08117685,  0.        , ...,  1.        ,\n",
              "         0.        ,  0.        ],\n",
              "       ...,\n",
              "       [ 0.85905473,  0.70063454,  1.        , ...,  0.        ,\n",
              "         2.        ,  1.        ],\n",
              "       [ 0.07128113, -1.38009893,  0.        , ...,  0.        ,\n",
              "         2.        ,  1.        ],\n",
              "       [ 1.28874942, -0.44589206,  0.        , ...,  1.        ,\n",
              "         1.        ,  0.        ]])"
            ]
          },
          "metadata": {},
          "execution_count": 26
        }
      ]
    },
    {
      "cell_type": "markdown",
      "source": [
        "We will try the Linear Regression model and analyze its score."
      ],
      "metadata": {
        "id": "MYYN6wbJdB24"
      }
    },
    {
      "cell_type": "code",
      "source": [
        "linreg = LinearRegression()\n",
        "linreg.fit(X_train, y_train)"
      ],
      "metadata": {
        "colab": {
          "base_uri": "https://localhost:8080/",
          "height": 75
        },
        "id": "kEcE_21pOrDN",
        "outputId": "5d5d4371-79b6-4922-b561-fff5fe365bdf"
      },
      "execution_count": 27,
      "outputs": [
        {
          "output_type": "execute_result",
          "data": {
            "text/plain": [
              "LinearRegression()"
            ],
            "text/html": [
              "<style>#sk-container-id-1 {color: black;background-color: white;}#sk-container-id-1 pre{padding: 0;}#sk-container-id-1 div.sk-toggleable {background-color: white;}#sk-container-id-1 label.sk-toggleable__label {cursor: pointer;display: block;width: 100%;margin-bottom: 0;padding: 0.3em;box-sizing: border-box;text-align: center;}#sk-container-id-1 label.sk-toggleable__label-arrow:before {content: \"▸\";float: left;margin-right: 0.25em;color: #696969;}#sk-container-id-1 label.sk-toggleable__label-arrow:hover:before {color: black;}#sk-container-id-1 div.sk-estimator:hover label.sk-toggleable__label-arrow:before {color: black;}#sk-container-id-1 div.sk-toggleable__content {max-height: 0;max-width: 0;overflow: hidden;text-align: left;background-color: #f0f8ff;}#sk-container-id-1 div.sk-toggleable__content pre {margin: 0.2em;color: black;border-radius: 0.25em;background-color: #f0f8ff;}#sk-container-id-1 input.sk-toggleable__control:checked~div.sk-toggleable__content {max-height: 200px;max-width: 100%;overflow: auto;}#sk-container-id-1 input.sk-toggleable__control:checked~label.sk-toggleable__label-arrow:before {content: \"▾\";}#sk-container-id-1 div.sk-estimator input.sk-toggleable__control:checked~label.sk-toggleable__label {background-color: #d4ebff;}#sk-container-id-1 div.sk-label input.sk-toggleable__control:checked~label.sk-toggleable__label {background-color: #d4ebff;}#sk-container-id-1 input.sk-hidden--visually {border: 0;clip: rect(1px 1px 1px 1px);clip: rect(1px, 1px, 1px, 1px);height: 1px;margin: -1px;overflow: hidden;padding: 0;position: absolute;width: 1px;}#sk-container-id-1 div.sk-estimator {font-family: monospace;background-color: #f0f8ff;border: 1px dotted black;border-radius: 0.25em;box-sizing: border-box;margin-bottom: 0.5em;}#sk-container-id-1 div.sk-estimator:hover {background-color: #d4ebff;}#sk-container-id-1 div.sk-parallel-item::after {content: \"\";width: 100%;border-bottom: 1px solid gray;flex-grow: 1;}#sk-container-id-1 div.sk-label:hover label.sk-toggleable__label {background-color: #d4ebff;}#sk-container-id-1 div.sk-serial::before {content: \"\";position: absolute;border-left: 1px solid gray;box-sizing: border-box;top: 0;bottom: 0;left: 50%;z-index: 0;}#sk-container-id-1 div.sk-serial {display: flex;flex-direction: column;align-items: center;background-color: white;padding-right: 0.2em;padding-left: 0.2em;position: relative;}#sk-container-id-1 div.sk-item {position: relative;z-index: 1;}#sk-container-id-1 div.sk-parallel {display: flex;align-items: stretch;justify-content: center;background-color: white;position: relative;}#sk-container-id-1 div.sk-item::before, #sk-container-id-1 div.sk-parallel-item::before {content: \"\";position: absolute;border-left: 1px solid gray;box-sizing: border-box;top: 0;bottom: 0;left: 50%;z-index: -1;}#sk-container-id-1 div.sk-parallel-item {display: flex;flex-direction: column;z-index: 1;position: relative;background-color: white;}#sk-container-id-1 div.sk-parallel-item:first-child::after {align-self: flex-end;width: 50%;}#sk-container-id-1 div.sk-parallel-item:last-child::after {align-self: flex-start;width: 50%;}#sk-container-id-1 div.sk-parallel-item:only-child::after {width: 0;}#sk-container-id-1 div.sk-dashed-wrapped {border: 1px dashed gray;margin: 0 0.4em 0.5em 0.4em;box-sizing: border-box;padding-bottom: 0.4em;background-color: white;}#sk-container-id-1 div.sk-label label {font-family: monospace;font-weight: bold;display: inline-block;line-height: 1.2em;}#sk-container-id-1 div.sk-label-container {text-align: center;}#sk-container-id-1 div.sk-container {/* jupyter's `normalize.less` sets `[hidden] { display: none; }` but bootstrap.min.css set `[hidden] { display: none !important; }` so we also need the `!important` here to be able to override the default hidden behavior on the sphinx rendered scikit-learn.org. See: https://github.com/scikit-learn/scikit-learn/issues/21755 */display: inline-block !important;position: relative;}#sk-container-id-1 div.sk-text-repr-fallback {display: none;}</style><div id=\"sk-container-id-1\" class=\"sk-top-container\"><div class=\"sk-text-repr-fallback\"><pre>LinearRegression()</pre><b>In a Jupyter environment, please rerun this cell to show the HTML representation or trust the notebook. <br />On GitHub, the HTML representation is unable to render, please try loading this page with nbviewer.org.</b></div><div class=\"sk-container\" hidden><div class=\"sk-item\"><div class=\"sk-estimator sk-toggleable\"><input class=\"sk-toggleable__control sk-hidden--visually\" id=\"sk-estimator-id-1\" type=\"checkbox\" checked><label for=\"sk-estimator-id-1\" class=\"sk-toggleable__label sk-toggleable__label-arrow\">LinearRegression</label><div class=\"sk-toggleable__content\"><pre>LinearRegression()</pre></div></div></div></div></div>"
            ]
          },
          "metadata": {},
          "execution_count": 27
        }
      ]
    },
    {
      "cell_type": "code",
      "source": [
        "linreg_score = cross_val_score(linreg, X, y, cv=10, scoring=\"r2\")\n",
        "linreg_score_mean = linreg_score.mean();\n",
        "linreg_score_mean"
      ],
      "metadata": {
        "colab": {
          "base_uri": "https://localhost:8080/"
        },
        "id": "TjsBLR9keEKW",
        "outputId": "aca04f3c-3cce-4f15-e413-5b13996b16d7"
      },
      "execution_count": 28,
      "outputs": [
        {
          "output_type": "execute_result",
          "data": {
            "text/plain": [
              "0.7445006998667603"
            ]
          },
          "metadata": {},
          "execution_count": 28
        }
      ]
    },
    {
      "cell_type": "markdown",
      "source": [
        "The score is not very good. Let's try the Random Forest Regression model."
      ],
      "metadata": {
        "id": "EZP9NQbWdI-x"
      }
    },
    {
      "cell_type": "code",
      "source": [
        "randreg = RandomForestRegressor(random_state=0)\n",
        "randreg.fit(X_train, y_train.ravel())"
      ],
      "metadata": {
        "id": "JFi19Y3GpYPR",
        "colab": {
          "base_uri": "https://localhost:8080/",
          "height": 75
        },
        "outputId": "94a335a2-20d5-4e62-cab9-0ab4c718d188"
      },
      "execution_count": 29,
      "outputs": [
        {
          "output_type": "execute_result",
          "data": {
            "text/plain": [
              "RandomForestRegressor(random_state=0)"
            ],
            "text/html": [
              "<style>#sk-container-id-2 {color: black;background-color: white;}#sk-container-id-2 pre{padding: 0;}#sk-container-id-2 div.sk-toggleable {background-color: white;}#sk-container-id-2 label.sk-toggleable__label {cursor: pointer;display: block;width: 100%;margin-bottom: 0;padding: 0.3em;box-sizing: border-box;text-align: center;}#sk-container-id-2 label.sk-toggleable__label-arrow:before {content: \"▸\";float: left;margin-right: 0.25em;color: #696969;}#sk-container-id-2 label.sk-toggleable__label-arrow:hover:before {color: black;}#sk-container-id-2 div.sk-estimator:hover label.sk-toggleable__label-arrow:before {color: black;}#sk-container-id-2 div.sk-toggleable__content {max-height: 0;max-width: 0;overflow: hidden;text-align: left;background-color: #f0f8ff;}#sk-container-id-2 div.sk-toggleable__content pre {margin: 0.2em;color: black;border-radius: 0.25em;background-color: #f0f8ff;}#sk-container-id-2 input.sk-toggleable__control:checked~div.sk-toggleable__content {max-height: 200px;max-width: 100%;overflow: auto;}#sk-container-id-2 input.sk-toggleable__control:checked~label.sk-toggleable__label-arrow:before {content: \"▾\";}#sk-container-id-2 div.sk-estimator input.sk-toggleable__control:checked~label.sk-toggleable__label {background-color: #d4ebff;}#sk-container-id-2 div.sk-label input.sk-toggleable__control:checked~label.sk-toggleable__label {background-color: #d4ebff;}#sk-container-id-2 input.sk-hidden--visually {border: 0;clip: rect(1px 1px 1px 1px);clip: rect(1px, 1px, 1px, 1px);height: 1px;margin: -1px;overflow: hidden;padding: 0;position: absolute;width: 1px;}#sk-container-id-2 div.sk-estimator {font-family: monospace;background-color: #f0f8ff;border: 1px dotted black;border-radius: 0.25em;box-sizing: border-box;margin-bottom: 0.5em;}#sk-container-id-2 div.sk-estimator:hover {background-color: #d4ebff;}#sk-container-id-2 div.sk-parallel-item::after {content: \"\";width: 100%;border-bottom: 1px solid gray;flex-grow: 1;}#sk-container-id-2 div.sk-label:hover label.sk-toggleable__label {background-color: #d4ebff;}#sk-container-id-2 div.sk-serial::before {content: \"\";position: absolute;border-left: 1px solid gray;box-sizing: border-box;top: 0;bottom: 0;left: 50%;z-index: 0;}#sk-container-id-2 div.sk-serial {display: flex;flex-direction: column;align-items: center;background-color: white;padding-right: 0.2em;padding-left: 0.2em;position: relative;}#sk-container-id-2 div.sk-item {position: relative;z-index: 1;}#sk-container-id-2 div.sk-parallel {display: flex;align-items: stretch;justify-content: center;background-color: white;position: relative;}#sk-container-id-2 div.sk-item::before, #sk-container-id-2 div.sk-parallel-item::before {content: \"\";position: absolute;border-left: 1px solid gray;box-sizing: border-box;top: 0;bottom: 0;left: 50%;z-index: -1;}#sk-container-id-2 div.sk-parallel-item {display: flex;flex-direction: column;z-index: 1;position: relative;background-color: white;}#sk-container-id-2 div.sk-parallel-item:first-child::after {align-self: flex-end;width: 50%;}#sk-container-id-2 div.sk-parallel-item:last-child::after {align-self: flex-start;width: 50%;}#sk-container-id-2 div.sk-parallel-item:only-child::after {width: 0;}#sk-container-id-2 div.sk-dashed-wrapped {border: 1px dashed gray;margin: 0 0.4em 0.5em 0.4em;box-sizing: border-box;padding-bottom: 0.4em;background-color: white;}#sk-container-id-2 div.sk-label label {font-family: monospace;font-weight: bold;display: inline-block;line-height: 1.2em;}#sk-container-id-2 div.sk-label-container {text-align: center;}#sk-container-id-2 div.sk-container {/* jupyter's `normalize.less` sets `[hidden] { display: none; }` but bootstrap.min.css set `[hidden] { display: none !important; }` so we also need the `!important` here to be able to override the default hidden behavior on the sphinx rendered scikit-learn.org. See: https://github.com/scikit-learn/scikit-learn/issues/21755 */display: inline-block !important;position: relative;}#sk-container-id-2 div.sk-text-repr-fallback {display: none;}</style><div id=\"sk-container-id-2\" class=\"sk-top-container\"><div class=\"sk-text-repr-fallback\"><pre>RandomForestRegressor(random_state=0)</pre><b>In a Jupyter environment, please rerun this cell to show the HTML representation or trust the notebook. <br />On GitHub, the HTML representation is unable to render, please try loading this page with nbviewer.org.</b></div><div class=\"sk-container\" hidden><div class=\"sk-item\"><div class=\"sk-estimator sk-toggleable\"><input class=\"sk-toggleable__control sk-hidden--visually\" id=\"sk-estimator-id-2\" type=\"checkbox\" checked><label for=\"sk-estimator-id-2\" class=\"sk-toggleable__label sk-toggleable__label-arrow\">RandomForestRegressor</label><div class=\"sk-toggleable__content\"><pre>RandomForestRegressor(random_state=0)</pre></div></div></div></div></div>"
            ]
          },
          "metadata": {},
          "execution_count": 29
        }
      ]
    },
    {
      "cell_type": "code",
      "source": [
        "randreg_score = cross_val_score(randreg, X, y, cv=5, scoring=\"r2\")\n",
        "randreg_score_mean_1 = randreg_score.mean();\n",
        "print(\"R^2:\",randreg_score_mean_1)"
      ],
      "metadata": {
        "id": "0rJvLZ_hqB_p",
        "colab": {
          "base_uri": "https://localhost:8080/"
        },
        "outputId": "c85290af-0e43-4597-dacd-d1adc88ff6bb"
      },
      "execution_count": 30,
      "outputs": [
        {
          "output_type": "stream",
          "name": "stdout",
          "text": [
            "R^2: 0.8376581559590803\n"
          ]
        }
      ]
    },
    {
      "cell_type": "markdown",
      "source": [
        "The score is better with the Random Forest method. Let's look at the other scores and try to improve them by adjusting the hyperparameters. We will try to find the optimal parameters using the Grid Search method."
      ],
      "metadata": {
        "id": "SBqXsoiNdmJp"
      }
    },
    {
      "cell_type": "code",
      "source": [
        "randreg_score = cross_val_score(randreg, X, y, cv=5, scoring=\"neg_mean_squared_error\")\n",
        "randreg_score_mean_2 = randreg_score.mean();\n",
        "print(\"MSE:\",randreg_score_mean_2)"
      ],
      "metadata": {
        "colab": {
          "base_uri": "https://localhost:8080/"
        },
        "id": "goL8SR9EmAti",
        "outputId": "06abf700-14d2-47fe-f70c-4f302369fa13"
      },
      "execution_count": 31,
      "outputs": [
        {
          "output_type": "stream",
          "name": "stdout",
          "text": [
            "MSE: -23529451.23416769\n"
          ]
        }
      ]
    },
    {
      "cell_type": "code",
      "source": [
        "randreg_score = cross_val_score(randreg, X, y, cv=5, scoring=\"neg_root_mean_squared_error\")\n",
        "randreg_score_mean_3 = randreg_score.mean();\n",
        "print(\"RMSE:\",randreg_score_mean_3)"
      ],
      "metadata": {
        "colab": {
          "base_uri": "https://localhost:8080/"
        },
        "id": "vBWapFMUmAif",
        "outputId": "ba0d1dce-dbdd-4eba-c97a-3ecfba48612f"
      },
      "execution_count": 32,
      "outputs": [
        {
          "output_type": "stream",
          "name": "stdout",
          "text": [
            "RMSE: -4839.770262975149\n"
          ]
        }
      ]
    },
    {
      "cell_type": "code",
      "source": [
        "randreg_score = cross_val_score(randreg, X, y, cv=5, scoring=\"neg_mean_absolute_error\")\n",
        "randreg_score_mean_4 = randreg_score.mean();\n",
        "print(\"MAE:\",randreg_score_mean_4)"
      ],
      "metadata": {
        "colab": {
          "base_uri": "https://localhost:8080/"
        },
        "id": "YnmFRpWimAYW",
        "outputId": "3eb12967-cca0-4b1b-e352-faaba1044637"
      },
      "execution_count": 33,
      "outputs": [
        {
          "output_type": "stream",
          "name": "stdout",
          "text": [
            "MAE: -2664.5874343145015\n"
          ]
        }
      ]
    },
    {
      "cell_type": "code",
      "source": [
        "randreg = RandomForestRegressor(random_state=0)\n",
        "\n",
        "hyper_params = {\"n_estimators\": [10,100,200], \"max_depth\": [4,5,6,7,8,None], \"max_features\": [\"sqrt\",\"log2\", None]}\n",
        "grid_search = GridSearchCV(estimator=randreg, param_grid=hyper_params, n_jobs=-1, cv=5)\n",
        "grid_search.fit(X_train, y_train.ravel())\n",
        "\n",
        "bestscore = grid_search.best_score_\n",
        "bestparam = grid_search.best_params_"
      ],
      "metadata": {
        "id": "SmZh1dUzyEm-"
      },
      "execution_count": 34,
      "outputs": []
    },
    {
      "cell_type": "code",
      "source": [
        "bestscore"
      ],
      "metadata": {
        "colab": {
          "base_uri": "https://localhost:8080/"
        },
        "id": "hGyM5-Ne1OX3",
        "outputId": "aab35db4-9921-4f62-c2eb-b3d66e78b69f"
      },
      "execution_count": 35,
      "outputs": [
        {
          "output_type": "execute_result",
          "data": {
            "text/plain": [
              "0.851878219818202"
            ]
          },
          "metadata": {},
          "execution_count": 35
        }
      ]
    },
    {
      "cell_type": "code",
      "source": [
        "bestparam"
      ],
      "metadata": {
        "colab": {
          "base_uri": "https://localhost:8080/"
        },
        "id": "SwFotNmC22bI",
        "outputId": "fe87a653-3546-4691-ca93-25f2f4fd0cef"
      },
      "execution_count": 36,
      "outputs": [
        {
          "output_type": "execute_result",
          "data": {
            "text/plain": [
              "{'max_depth': 4, 'max_features': None, 'n_estimators': 200}"
            ]
          },
          "metadata": {},
          "execution_count": 36
        }
      ]
    },
    {
      "cell_type": "markdown",
      "source": [
        "We will put these parameters into our RandomForestRegressor algorithm and analyze the score."
      ],
      "metadata": {
        "id": "e6JkTVJfiNT7"
      }
    },
    {
      "cell_type": "code",
      "source": [
        "randreg = RandomForestRegressor(random_state=0, n_estimators=200, max_depth=4, max_features=None)\n",
        "randreg.fit(X_train, y_train.ravel())"
      ],
      "metadata": {
        "colab": {
          "base_uri": "https://localhost:8080/",
          "height": 92
        },
        "id": "pa1OA_b2iZwY",
        "outputId": "8fc6df4e-5f9d-4a01-a913-59be4e9021aa"
      },
      "execution_count": 37,
      "outputs": [
        {
          "output_type": "execute_result",
          "data": {
            "text/plain": [
              "RandomForestRegressor(max_depth=4, max_features=None, n_estimators=200,\n",
              "                      random_state=0)"
            ],
            "text/html": [
              "<style>#sk-container-id-3 {color: black;background-color: white;}#sk-container-id-3 pre{padding: 0;}#sk-container-id-3 div.sk-toggleable {background-color: white;}#sk-container-id-3 label.sk-toggleable__label {cursor: pointer;display: block;width: 100%;margin-bottom: 0;padding: 0.3em;box-sizing: border-box;text-align: center;}#sk-container-id-3 label.sk-toggleable__label-arrow:before {content: \"▸\";float: left;margin-right: 0.25em;color: #696969;}#sk-container-id-3 label.sk-toggleable__label-arrow:hover:before {color: black;}#sk-container-id-3 div.sk-estimator:hover label.sk-toggleable__label-arrow:before {color: black;}#sk-container-id-3 div.sk-toggleable__content {max-height: 0;max-width: 0;overflow: hidden;text-align: left;background-color: #f0f8ff;}#sk-container-id-3 div.sk-toggleable__content pre {margin: 0.2em;color: black;border-radius: 0.25em;background-color: #f0f8ff;}#sk-container-id-3 input.sk-toggleable__control:checked~div.sk-toggleable__content {max-height: 200px;max-width: 100%;overflow: auto;}#sk-container-id-3 input.sk-toggleable__control:checked~label.sk-toggleable__label-arrow:before {content: \"▾\";}#sk-container-id-3 div.sk-estimator input.sk-toggleable__control:checked~label.sk-toggleable__label {background-color: #d4ebff;}#sk-container-id-3 div.sk-label input.sk-toggleable__control:checked~label.sk-toggleable__label {background-color: #d4ebff;}#sk-container-id-3 input.sk-hidden--visually {border: 0;clip: rect(1px 1px 1px 1px);clip: rect(1px, 1px, 1px, 1px);height: 1px;margin: -1px;overflow: hidden;padding: 0;position: absolute;width: 1px;}#sk-container-id-3 div.sk-estimator {font-family: monospace;background-color: #f0f8ff;border: 1px dotted black;border-radius: 0.25em;box-sizing: border-box;margin-bottom: 0.5em;}#sk-container-id-3 div.sk-estimator:hover {background-color: #d4ebff;}#sk-container-id-3 div.sk-parallel-item::after {content: \"\";width: 100%;border-bottom: 1px solid gray;flex-grow: 1;}#sk-container-id-3 div.sk-label:hover label.sk-toggleable__label {background-color: #d4ebff;}#sk-container-id-3 div.sk-serial::before {content: \"\";position: absolute;border-left: 1px solid gray;box-sizing: border-box;top: 0;bottom: 0;left: 50%;z-index: 0;}#sk-container-id-3 div.sk-serial {display: flex;flex-direction: column;align-items: center;background-color: white;padding-right: 0.2em;padding-left: 0.2em;position: relative;}#sk-container-id-3 div.sk-item {position: relative;z-index: 1;}#sk-container-id-3 div.sk-parallel {display: flex;align-items: stretch;justify-content: center;background-color: white;position: relative;}#sk-container-id-3 div.sk-item::before, #sk-container-id-3 div.sk-parallel-item::before {content: \"\";position: absolute;border-left: 1px solid gray;box-sizing: border-box;top: 0;bottom: 0;left: 50%;z-index: -1;}#sk-container-id-3 div.sk-parallel-item {display: flex;flex-direction: column;z-index: 1;position: relative;background-color: white;}#sk-container-id-3 div.sk-parallel-item:first-child::after {align-self: flex-end;width: 50%;}#sk-container-id-3 div.sk-parallel-item:last-child::after {align-self: flex-start;width: 50%;}#sk-container-id-3 div.sk-parallel-item:only-child::after {width: 0;}#sk-container-id-3 div.sk-dashed-wrapped {border: 1px dashed gray;margin: 0 0.4em 0.5em 0.4em;box-sizing: border-box;padding-bottom: 0.4em;background-color: white;}#sk-container-id-3 div.sk-label label {font-family: monospace;font-weight: bold;display: inline-block;line-height: 1.2em;}#sk-container-id-3 div.sk-label-container {text-align: center;}#sk-container-id-3 div.sk-container {/* jupyter's `normalize.less` sets `[hidden] { display: none; }` but bootstrap.min.css set `[hidden] { display: none !important; }` so we also need the `!important` here to be able to override the default hidden behavior on the sphinx rendered scikit-learn.org. See: https://github.com/scikit-learn/scikit-learn/issues/21755 */display: inline-block !important;position: relative;}#sk-container-id-3 div.sk-text-repr-fallback {display: none;}</style><div id=\"sk-container-id-3\" class=\"sk-top-container\"><div class=\"sk-text-repr-fallback\"><pre>RandomForestRegressor(max_depth=4, max_features=None, n_estimators=200,\n",
              "                      random_state=0)</pre><b>In a Jupyter environment, please rerun this cell to show the HTML representation or trust the notebook. <br />On GitHub, the HTML representation is unable to render, please try loading this page with nbviewer.org.</b></div><div class=\"sk-container\" hidden><div class=\"sk-item\"><div class=\"sk-estimator sk-toggleable\"><input class=\"sk-toggleable__control sk-hidden--visually\" id=\"sk-estimator-id-3\" type=\"checkbox\" checked><label for=\"sk-estimator-id-3\" class=\"sk-toggleable__label sk-toggleable__label-arrow\">RandomForestRegressor</label><div class=\"sk-toggleable__content\"><pre>RandomForestRegressor(max_depth=4, max_features=None, n_estimators=200,\n",
              "                      random_state=0)</pre></div></div></div></div></div>"
            ]
          },
          "metadata": {},
          "execution_count": 37
        }
      ]
    },
    {
      "cell_type": "code",
      "source": [
        "randreg_score = cross_val_score(randreg, X, y, cv=5, scoring=\"r2\")\n",
        "randreg_score_mean_1 = randreg_score.mean();\n",
        "print(\"R^2:\",randreg_score_mean_1)"
      ],
      "metadata": {
        "colab": {
          "base_uri": "https://localhost:8080/"
        },
        "id": "vfrC49e4jCKi",
        "outputId": "5215e2d1-7366-43b3-cc39-834e5db31956"
      },
      "execution_count": 38,
      "outputs": [
        {
          "output_type": "stream",
          "name": "stdout",
          "text": [
            "R^2: 0.8582831811349247\n"
          ]
        }
      ]
    },
    {
      "cell_type": "code",
      "source": [
        "randreg_score = cross_val_score(randreg, X, y, cv=5, scoring=\"neg_mean_squared_error\")\n",
        "randreg_score_mean_2 = randreg_score.mean();\n",
        "print(\"MSE:\",randreg_score_mean_2)"
      ],
      "metadata": {
        "colab": {
          "base_uri": "https://localhost:8080/"
        },
        "id": "XVxLPSAXjoFL",
        "outputId": "19c94a2b-a6d7-4c4a-fcaf-8e2347e181fa"
      },
      "execution_count": 39,
      "outputs": [
        {
          "output_type": "stream",
          "name": "stdout",
          "text": [
            "MSE: -20510339.806980003\n"
          ]
        }
      ]
    },
    {
      "cell_type": "code",
      "source": [
        "randreg_score = cross_val_score(randreg, X, y, cv=5, scoring=\"neg_root_mean_squared_error\")\n",
        "randreg_score_mean_3 = randreg_score.mean();\n",
        "print(\"RMSE:\",randreg_score_mean_3)"
      ],
      "metadata": {
        "colab": {
          "base_uri": "https://localhost:8080/"
        },
        "id": "YKYz2GxojoB9",
        "outputId": "5a9c231d-a7d3-48aa-b32c-3bb3c9b268b8"
      },
      "execution_count": 40,
      "outputs": [
        {
          "output_type": "stream",
          "name": "stdout",
          "text": [
            "RMSE: -4512.658097966196\n"
          ]
        }
      ]
    },
    {
      "cell_type": "code",
      "source": [
        "randreg_score = cross_val_score(randreg, X, y, cv=5, scoring=\"neg_mean_absolute_error\")\n",
        "randreg_score_mean_4 = randreg_score.mean();\n",
        "print(\"MAE:\",randreg_score_mean_4)"
      ],
      "metadata": {
        "colab": {
          "base_uri": "https://localhost:8080/"
        },
        "id": "joVFv5qIjn_A",
        "outputId": "fbb42ddd-56b0-4df8-9dbf-37a02ff35095"
      },
      "execution_count": 41,
      "outputs": [
        {
          "output_type": "stream",
          "name": "stdout",
          "text": [
            "MAE: -2554.2246311391814\n"
          ]
        }
      ]
    },
    {
      "cell_type": "markdown",
      "source": [
        "In regression scores, we want the r2 value to increase and the MSE, RMSE and MAE values to decrease. We see that the model we optimized gives better results."
      ],
      "metadata": {
        "id": "Cnz8-xivnmdM"
      }
    },
    {
      "cell_type": "code",
      "source": [],
      "metadata": {
        "id": "xjdhQFdVzom0"
      },
      "execution_count": null,
      "outputs": []
    }
  ]
}